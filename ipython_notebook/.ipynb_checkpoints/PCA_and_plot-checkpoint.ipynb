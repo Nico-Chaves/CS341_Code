{
 "cells": [
  {
   "cell_type": "code",
   "execution_count": 6,
   "metadata": {
    "collapsed": false
   },
   "outputs": [],
   "source": [
    "from collections import Counter\n",
    "import numpy as np\n",
    "from sklearn import decomposition\n",
    "from sklearn import manifold\n",
    "import matplotlib.pyplot as plt\n",
    "import pandas as pd\n",
    "\n",
    "# PCA Parameters - controls of what data will be used in PCA (not for plotting)\n",
    "spec_donors = None       # array of specific donor IDs, or None\n",
    "donor_sex = None         # 'm','f', or None\n",
    "donor_age_min = None     # minimum age, or None\n",
    "donor_age_max = None     # maximum age, or None\n",
    "spec_tissues = None      # array of specific tissue names (as strings), or None\n",
    "\n",
    "donor_list = []\n",
    "\n",
    "if spec_donors:\n",
    "    donor_list = spec_donors\n",
    "else\n",
    "    donor_list = "
   ]
  },
  {
   "cell_type": "code",
   "execution_count": 8,
   "metadata": {
    "collapsed": false
   },
   "outputs": [
    {
     "name": "stdout",
     "output_type": "stream",
     "text": [
      "\u001b[34mGitHub Desktop.app\u001b[m\u001b[m/        SecureDownloadManager.log\r\n",
      "PCA and Plot.ipynb         \u001b[34mipython\u001b[m\u001b[m/\r\n",
      "\u001b[34mSecureDownloadManager.app\u001b[m\u001b[m/\r\n"
     ]
    }
   ],
   "source": [
    "ls"
   ]
  },
  {
   "cell_type": "code",
   "execution_count": null,
   "metadata": {
    "collapsed": true
   },
   "outputs": [],
   "source": []
  }
 ],
 "metadata": {
  "kernelspec": {
   "display_name": "Python 2",
   "language": "python",
   "name": "python2"
  },
  "language_info": {
   "codemirror_mode": {
    "name": "ipython",
    "version": 2
   },
   "file_extension": ".py",
   "mimetype": "text/x-python",
   "name": "python",
   "nbconvert_exporter": "python",
   "pygments_lexer": "ipython2",
   "version": "2.7.11"
  }
 },
 "nbformat": 4,
 "nbformat_minor": 0
}

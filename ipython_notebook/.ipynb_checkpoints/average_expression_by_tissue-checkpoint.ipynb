{
 "cells": [
  {
   "cell_type": "code",
   "execution_count": 11,
   "metadata": {
    "collapsed": true
   },
   "outputs": [],
   "source": [
    "from collections import Counter\n",
    "import numpy as np\n",
    "import pandas as pd"
   ]
  },
  {
   "cell_type": "code",
   "execution_count": 12,
   "metadata": {
    "collapsed": true
   },
   "outputs": [],
   "source": [
    "def tissue_average_dataframe(spec_donors=[],reject_donors=[],donor_sex=None,donor_age=[],spec_tissues=[],reject_tissues=[],\n",
    "                       top_tissues=None,min_tissue_count=None,output_name=None):\n",
    "    \n",
    "    #        This function constructs a pandas dataframe with ~10000 rows (transcripts) and a column for each tissue.\n",
    "    #        Each column is the average of all columns of the same tissue.\n",
    "\n",
    "    #        Most of the code is copied from functions in PCA_and_plot, so look there for details.\n",
    "    #        Again here, one can select which donors, sexes, ages, and tissues are included.\n",
    "\n",
    "    # DONORS BY ID\n",
    "    if not spec_donors:\n",
    "        all_donors = open('../data/donors_list.txt')\n",
    "        donor_list = [ID[0:-1] for ID in all_donors if ID[0:-1] not in reject_donors]\n",
    "        all_donors.close()\n",
    "    else:\n",
    "        donor_list = spec_donors\n",
    "    # dictionary of donor IDs, and an array that will be [sex,age]\n",
    "    donor_dict = dict((ID,[]) for ID in donor_list)\n",
    "\n",
    "    # DONORS BY AGE AND SEX\n",
    "    donor_info = open('../data/donor_info.txt')\n",
    "    for line in donor_info:\n",
    "        # info is [ID,sex,age,death]\n",
    "        info = line.split('\\t')\n",
    "        if info[0] in donor_list:\n",
    "            # check sex\n",
    "            if donor_sex and info[1] != donor_sex:\n",
    "                del donor_dict[info[0]]\n",
    "                continue\n",
    "            else:\n",
    "                donor_dict[info[0]].append(info[1])\n",
    "            # check age    \n",
    "            age = info[2].split('-')[0]\n",
    "            if donor_age and age not in donor_age:\n",
    "                del donor_dict[info[0]]\n",
    "                continue\n",
    "            else:\n",
    "                donor_dict[info[0]].append(age)\n",
    "    donor_info.close()\n",
    "\n",
    "    # TISSUES BY TYPE AND SAMPLE COUNT\n",
    "    tissues = Counter()\n",
    "    for ID in donor_dict.keys():\n",
    "        metafile = open('../data/Donor_Metadata_Enhanced/donor_meta_'+ID+'.txt')\n",
    "        # skip header lines\n",
    "        next(metafile)\n",
    "        next(metafile)\n",
    "        next(metafile)\n",
    "        next(metafile)\n",
    "        for line in metafile:\n",
    "            # look for tissue type listed in meta file\n",
    "            tissue = line.split('\\t')[1]\n",
    "            if spec_tissues and tissue in spec_tissues:\n",
    "                tissues[tissue] = tissues.get(tissue,0) + 1\n",
    "            elif not spec_tissues and tissue not in reject_tissues:\n",
    "                tissues[tissue] = tissues.get(tissue,0) + 1\n",
    "        metafile.close()\n",
    "    if min_tissue_count:\n",
    "        # pick tissues with minimum number of samples\n",
    "        tissue_list = [key for key,value in tissues.iteritems() if value >= min_tissue_count]\n",
    "    else:\n",
    "        # pick top most commonly sampled tissues\n",
    "        tissue_list = [key for key,value in tissues.most_common(top_tissues)]\n",
    "\n",
    "    # CONSTRUCT MATRIX\n",
    "    avg_matrix = np.zeros((10000,len(tissue_list)))\n",
    "\n",
    "    # metadata on relevant points\n",
    "    for ID in donor_dict.keys():\n",
    "        metafile = open('../data/Donor_Metadata_Enhanced/donor_meta_'+ID+'.txt')\n",
    "        next(metafile)\n",
    "        next(metafile)\n",
    "        next(metafile)\n",
    "        next(metafile)\n",
    "        # column indices and types for relevant tissues\n",
    "        columns = []\n",
    "        column_tissue = []\n",
    "        column = 0\n",
    "        for line in metafile:\n",
    "            tissue = line.split('\\t')[1]\n",
    "            if tissue in tissue_list:\n",
    "                columns.append(column)\n",
    "                column_tissue.append(tissue)\n",
    "            column = column + 1\n",
    "        metafile.close()\n",
    "        # get data\n",
    "        donor_matrix = np.zeros((10000,len(columns)))\n",
    "        row = 0\n",
    "        donorfile = open('../data/donor_matrices_fixed/donor_'+ID+'.txt')\n",
    "        for line in donorfile:\n",
    "            # from file, take desired tissue columns\n",
    "            values = [line.split('\\t')[ind] for ind in columns]\n",
    "            # add them to appropriate columns of avg_matrix\n",
    "            indices = [tissue_list.index(col_tis) for col_tis in column_tissue]\n",
    "            avg_matrix[row,indices] = avg_matrix[row,indices] + [float(value) for value in values]\n",
    "            row = row+1\n",
    "        donorfile.close()\n",
    "    \n",
    "    # divide by number of samples to get average\n",
    "    for col in range(len(tissue_list)):\n",
    "        avg_matrix[:,col] = avg_matrix[:,col]/tissues[tissue_list[col]]\n",
    "\n",
    "    df = pd.DataFrame(avg_matrix,columns=tissue_list)\n",
    "    # save to file\n",
    "    if output_name:\n",
    "        df.to_csv(output_name,sep='\\t')\n",
    "        print 'Dataframe saved as ' + output_name\n",
    "    return df"
   ]
  },
  {
   "cell_type": "code",
   "execution_count": 25,
   "metadata": {
    "collapsed": false
   },
   "outputs": [],
   "source": [
    "df = tissue_average_dataframe(spec_tissues=['Whole Blood'])"
   ]
  },
  {
   "cell_type": "code",
   "execution_count": 26,
   "metadata": {
    "collapsed": false
   },
   "outputs": [
    {
     "data": {
      "text/plain": [
       "(10000, 1)"
      ]
     },
     "execution_count": 26,
     "metadata": {},
     "output_type": "execute_result"
    }
   ],
   "source": [
    "print df"
   ]
  },
  {
   "cell_type": "code",
   "execution_count": null,
   "metadata": {
    "collapsed": true
   },
   "outputs": [],
   "source": []
  }
 ],
 "metadata": {
  "kernelspec": {
   "display_name": "Python 2",
   "language": "python",
   "name": "python2"
  },
  "language_info": {
   "codemirror_mode": {
    "name": "ipython",
    "version": 2
   },
   "file_extension": ".py",
   "mimetype": "text/x-python",
   "name": "python",
   "nbconvert_exporter": "python",
   "pygments_lexer": "ipython2",
   "version": "2.7.11"
  }
 },
 "nbformat": 4,
 "nbformat_minor": 0
}

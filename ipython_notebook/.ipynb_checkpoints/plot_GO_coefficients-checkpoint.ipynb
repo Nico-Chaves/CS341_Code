{
 "cells": [
  {
   "cell_type": "code",
   "execution_count": 1,
   "metadata": {
    "collapsed": true
   },
   "outputs": [],
   "source": [
    "import numpy as np\n",
    "import pandas as pd\n",
    "import matplotlib.pyplot as plt\n",
    "%matplotlib inline"
   ]
  },
  {
   "cell_type": "code",
   "execution_count": 2,
   "metadata": {
    "collapsed": false
   },
   "outputs": [],
   "source": [
    "# function takes result file and returns GO_ID and array of coefficients\n",
    "def get_coeff(input_file):\n",
    "    results = open(input_file)\n",
    "    nextline = 0\n",
    "    for line in results:\n",
    "        data = line.split()\n",
    "        if data[1] == 'Prediction':\n",
    "            GO_ID = data[len(data)-1]\n",
    "        elif data[1] == 'Coefficients:':\n",
    "            nextline = 1\n",
    "        elif nextline == 1:\n",
    "            coeffs = (data)\n",
    "            break\n",
    "    return [GO_ID, coeffs]"
   ]
  },
  {
   "cell_type": "code",
   "execution_count": 35,
   "metadata": {
    "collapsed": false
   },
   "outputs": [],
   "source": [
    "# function takes GO term, array of coefficients, and (optional) highlighted tissues, and plots accordingly\n",
    "def plot_coeff(GO_ID, coeffs, highlight = []):\n",
    "    samples = open('../data/samples_to_tissues_map.txt')\n",
    "    tissue_type = np.loadtxt(samples,dtype='S36',delimiter='\\t')\n",
    "    tissue_list = pd.unique(tissue_type[:,2]) # pandas maintains correct order, numpy doesn't\n",
    "    \n",
    "    x = [np.where(tissue_list == tissue)[0][0] for tissue in tissue_type[:,2]]\n",
    "    plt.figure(figsize=(18, 6))\n",
    "    plt.plot(x, coeffs, 'bo')\n",
    "    plt.margins(0.01)\n",
    "    ax = plt.gca()\n",
    "    ax.xaxis.grid(True,which='both')\n",
    "    # You can specify a rotation for the tick labels in degrees or with keywords.\n",
    "    #plt.xticks(x, tissue_list, rotation='vertical')\n",
    "    # Pad margins so that markers don't get clipped by the axes\n",
    "    \n",
    "    # Tweak spacing to prevent clipping of tick-labels\n",
    "    # plt.subplots_adjust(bottom=0.15)\n",
    "    plt.show()\n",
    "    \n",
    "    \"\"\"\n",
    "    tissue_type = np.zeros((8555,3),dtype=np.str)\n",
    "    row = -1\n",
    "    \n",
    "    for sample in samples:\n",
    "        if row < 0:\n",
    "            row = row + 1\n",
    "            continue\n",
    "        tissue_type[row,:] = sample.split('\\t')\n",
    "    print tissue_type\n",
    "    \"\"\""
   ]
  },
  {
   "cell_type": "code",
   "execution_count": 36,
   "metadata": {
    "collapsed": false
   },
   "outputs": [
    {
     "data": {
      "image/png": "[encoded data removed]",
      "text/plain": [
       "<matplotlib.figure.Figure at 0x10980e290>"
      ]
     },
     "metadata": {},
     "output_type": "display_data"
    }
   ],
   "source": [
    "[GO_ID, coeffs] = get_coeff('../GO_prediction/test_result_with_coefficients_logreg_GO:0001909.txt')\n",
    "plot_coeff(GO_ID,coeffs)"
   ]
  },
  {
   "cell_type": "code",
   "execution_count": null,
   "metadata": {
    "collapsed": true
   },
   "outputs": [],
   "source": []
  }
 ],
 "metadata": {
  "kernelspec": {
   "display_name": "Python 2",
   "language": "python",
   "name": "python2"
  },
  "language_info": {
   "codemirror_mode": {
    "name": "ipython",
    "version": 2
   },
   "file_extension": ".py",
   "mimetype": "text/x-python",
   "name": "python",
   "nbconvert_exporter": "python",
   "pygments_lexer": "ipython2",
   "version": "2.7.11"
  }
 },
 "nbformat": 4,
 "nbformat_minor": 0
}

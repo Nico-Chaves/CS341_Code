{
 "cells": [
  {
   "cell_type": "code",
   "execution_count": 4,
   "metadata": {
    "collapsed": false
   },
   "outputs": [],
   "source": [
    "%matplotlib inline  \n",
    "# from scipy import stats\n",
    "import numpy as np\n",
    "import pandas as pd\n",
    "import matplotlib.mlab as mlab\n",
    "import matplotlib.pyplot as plt\n",
    "import matplotlib as mpl # this module controls the default values for plotting in matplotlib"
   ]
  },
  {
   "cell_type": "code",
   "execution_count": 5,
   "metadata": {
    "collapsed": true
   },
   "outputs": [],
   "source": [
    "def read_transcript_means_variances(filename,header,logscale):\n",
    "    # compute and store the mean expression levels for each targetID\n",
    "    meanExpressionLevels = [] \n",
    "    varExpressionLevels = [] \n",
    "    rpkm_file = open(filename)\n",
    "    firstLine = True\n",
    "    for line in rpkm_file:\n",
    "        if header == True:\n",
    "            if firstLine:\n",
    "                firstLine = False\n",
    "                continue\n",
    "        if header == True:\n",
    "            expLevels = np.array(line.split('\\t')[4:]).astype(np.float)\n",
    "        else:\n",
    "            expLevels = [float(i)  for i in line.split('\\t')]  \n",
    "        if logscale == True:\n",
    "            expLevels = [np.log10(x + 1) for x in expLevels]\n",
    "        meanExpressionLevels.append(sum(expLevels))\n",
    "        varExpressionLevels.append(np.var(expLevels))\n",
    "    rpkm_file.close()\n",
    "\n",
    "    return [meanExpressionLevels,varExpressionLevels]"
   ]
  },
  {
   "cell_type": "code",
   "execution_count": 6,
   "metadata": {
    "collapsed": false
   },
   "outputs": [],
   "source": [
    "def summarize_expLevels(values):\n",
    "    series = pd.Series(values)\n",
    "    print series.describe()\n",
    "\n",
    "def plot_histogram(ax,values,xLabel):\n",
    "    # plotting\n",
    "    n, bins, patches = ax.hist(values, 50, normed=1, facecolor='green', alpha=0.75)\n",
    "    ax.set_xlabel(xLabel)\n",
    "    ax.set_ylabel('fraction of transcripts')\n",
    "    # plt.title(filename)\n",
    "    # plt.axis([0, 1e+06, 0, 20])\n",
    "    # ax.grid(True)\n",
    "\n",
    "def plot_multiple(values1,labels1,values2,labels2):\n",
    "    fig, ((ax1, ax2)) = plt.subplots(nrows=1, ncols=2)\n",
    "    plot_histogram(ax1,values1,labels1)\n",
    "    plot_histogram(ax2,values2,labels2)"
   ]
  },
  {
   "cell_type": "code",
   "execution_count": 7,
   "metadata": {
    "collapsed": true
   },
   "outputs": [],
   "source": [
    "def write_array_to_file(array,filename):\n",
    "    outfile = open(filename,\"w\")\n",
    "    for item in array:\n",
    "        outfile.write(\"%f\\n\" % item)\n",
    "    outfile.close()\n",
    "    \n",
    "def read_array_from_file(filename):\n",
    "    array = []\n",
    "    infile = open(filename,\"r\")\n",
    "    for line in infile:\n",
    "        array.append(float(line))\n",
    "    infile.close()\n",
    "    return array"
   ]
  },
  {
   "cell_type": "markdown",
   "metadata": {},
   "source": [
    "# Plot transcript means and variations on a small test dataset"
   ]
  },
  {
   "cell_type": "code",
   "execution_count": 95,
   "metadata": {
    "collapsed": true
   },
   "outputs": [],
   "source": [
    "filename = '../data/tissue_test.txt' \n",
    "[mean,variance] = read_transcript_means_variances(filename,header=False,logscale=True)"
   ]
  },
  {
   "cell_type": "code",
   "execution_count": 158,
   "metadata": {
    "collapsed": false
   },
   "outputs": [],
   "source": [
    "#summarize_expLevels(mean)"
   ]
  },
  {
   "cell_type": "code",
   "execution_count": 159,
   "metadata": {
    "collapsed": false
   },
   "outputs": [],
   "source": [
    "#summarize_expLevels(variance,'variance of log expression')"
   ]
  },
  {
   "cell_type": "markdown",
   "metadata": {},
   "source": [
    "# Plot transcript means and variations on GO filtered dataset"
   ]
  },
  {
   "cell_type": "code",
   "execution_count": 100,
   "metadata": {
    "collapsed": false
   },
   "outputs": [],
   "source": [
    "pfx = '../../local_data/transcript_rpkm_in_go'\n",
    "[mean,variance] = read_transcript_means_variances(pfx + '.txt' ,header=True,logscale=True)\n",
    "write_array_to_file(mean, pfx + '_mean.txt' )\n",
    "write_array_to_file(variance, pfx + '_variance.txt' )"
   ]
  },
  {
   "cell_type": "code",
   "execution_count": 8,
   "metadata": {
    "collapsed": false
   },
   "outputs": [
    {
     "name": "stdout",
     "output_type": "stream",
     "text": [
      "count    67344.000000\n",
      "mean      2463.170595\n",
      "std       3644.616683\n",
      "min          0.000000\n",
      "25%         45.109037\n",
      "50%        622.294049\n",
      "75%       3620.869979\n",
      "max      36513.195274\n",
      "dtype: float64\n"
     ]
    },
    {
     "data": {
      "image/png": "[encoded data removed]",
      "text/plain": [
       "<matplotlib.figure.Figure at 0x108f035d0>"
      ]
     },
     "metadata": {},
     "output_type": "display_data"
    }
   ],
   "source": [
    "meanValues = read_array_from_file('../../local_data/transcript_rpkm_in_go_mean.txt')\n",
    "varianceValues = read_array_from_file('../../local_data/transcript_rpkm_in_go_variance.txt')\n",
    "mpl.rcParams['figure.figsize'] = (13, 6)\n",
    "plot_multiple(meanValues,'mean of log experssion',varianceValues,'variance of log experssion')\n",
    "summarize_expLevels(meanValues)"
   ]
  },
  {
   "cell_type": "code",
   "execution_count": 28,
   "metadata": {
    "collapsed": false
   },
   "outputs": [
    {
     "name": "stdout",
     "output_type": "stream",
     "text": [
      "Total Number of Transcripts:          67344\n",
      "Number of Zero Mean Transcripts:      2915\n",
      "Number of LOW Variance Transcripts:   3269\n"
     ]
    }
   ],
   "source": [
    "numberOfZeroMeanTranscripts = 0\n",
    "for value in meanValues:\n",
    "    if value <= 0.0001:\n",
    "        numberOfZeroMeanTranscripts = numberOfZeroMeanTranscripts + 1\n",
    "print 'Total Number of Transcripts:         ' , len(meanValues)\n",
    "print 'Number of Zero Mean Transcripts:     ' , numberOfZeroMeanTranscripts\n",
    "\n",
    "numberOfZeroVarTranscripts = 0\n",
    "for value in varianceValues:\n",
    "    if value <= 1e-9:\n",
    "        numberOfZeroVarTranscripts = numberOfZeroVarTranscripts + 1\n",
    "\n",
    "print 'Number of LOW Variance Transcripts:  ', numberOfZeroVarTranscripts\n"
   ]
  },
  {
   "cell_type": "markdown",
   "metadata": {},
   "source": [
    "# Plot transcript means and variations on variance-filtered dataset"
   ]
  },
  {
   "cell_type": "code",
   "execution_count": 156,
   "metadata": {
    "collapsed": true
   },
   "outputs": [],
   "source": [
    "pfx = '../../local_data/transcript_rpkm_top_10000_var'"
   ]
  },
  {
   "cell_type": "code",
   "execution_count": 124,
   "metadata": {
    "collapsed": false
   },
   "outputs": [],
   "source": [
    "[mean,variance] = read_transcript_means_variances(pfx + '.txt' ,header=True,logscale=True)\n",
    "write_array_to_file(mean, pfx + '_mean.txt' )\n",
    "write_array_to_file(variance, pfx + '_variance.txt' )"
   ]
  },
  {
   "cell_type": "code",
   "execution_count": 157,
   "metadata": {
    "collapsed": false
   },
   "outputs": [
    {
     "name": "stdout",
     "output_type": "stream",
     "text": [
      "count    10000.000000\n",
      "mean      7823.202609\n",
      "std       4997.594483\n",
      "min         43.400580\n",
      "25%       3524.388597\n",
      "50%       7828.966721\n",
      "75%      11203.674237\n",
      "max      36513.195274\n",
      "dtype: float64\n"
     ]
    },
    {
     "data": {
      "image/png": "[encoded data removed]",
      "text/plain": [
       "<matplotlib.figure.Figure at 0x10a5cc510>"
      ]
     },
     "metadata": {},
     "output_type": "display_data"
    }
   ],
   "source": [
    "meanValues = read_array_from_file( pfx + '_mean.txt' )\n",
    "varianceValues = read_array_from_file(pfx + '_variance.txt')\n",
    "mpl.rcParams['figure.figsize'] = (13, 6)\n",
    "plot_multiple(meanValues,'mean of log experssion',varianceValues,'variance of log experssion')\n",
    "summarize_expLevels(meanValues)"
   ]
  },
  {
   "cell_type": "code",
   "execution_count": null,
   "metadata": {
    "collapsed": true
   },
   "outputs": [],
   "source": []
  }
 ],
 "metadata": {
  "kernelspec": {
   "display_name": "Python 2",
   "language": "python",
   "name": "python2"
  },
  "language_info": {
   "codemirror_mode": {
    "name": "ipython",
    "version": 2
   },
   "file_extension": ".py",
   "mimetype": "text/x-python",
   "name": "python",
   "nbconvert_exporter": "python",
   "pygments_lexer": "ipython2",
   "version": "2.7.11"
  }
 },
 "nbformat": 4,
 "nbformat_minor": 0
}

{
 "cells": [
  {
   "cell_type": "code",
   "execution_count": 9,
   "metadata": {
    "collapsed": false
   },
   "outputs": [],
   "source": [
    "%matplotlib inline\n",
    "import os\n",
    "import numpy as np\n",
    "import pandas as pd\n",
    "import matplotlib.pyplot as plt\n",
    "import goatools\n",
    "from goatools.obo_parser import GODag"
   ]
  },
  {
   "cell_type": "code",
   "execution_count": 44,
   "metadata": {
    "collapsed": true
   },
   "outputs": [],
   "source": [
    "def threshold_idx(values,thres):\n",
    "    idx = []\n",
    "    for i in range(len(values)):\n",
    "        if values[i] > thres:\n",
    "            idx.append(i)\n",
    "    return idx\n",
    "\n",
    "def plot_histogram(ax,values,xLabel,yLabel):\n",
    "    # plotting\n",
    "    n, bins, patches = ax.hist(values, 50, normed=1, facecolor='green', alpha=0.75)\n",
    "    ax.set_xlabel(xLabel)\n",
    "    ax.set_ylabel(yLabel)\n",
    "    # plt.title(filename)\n",
    "    # plt.axis([0, 1e+06, 0, 20])\n",
    "    # ax.grid(True)\n",
    "\n",
    "def plot_multiple(values1,labels1,values2,labels2,yLabel):\n",
    "    fig, ((ax1, ax2)) = plt.subplots(nrows=1, ncols=2)\n",
    "    plot_histogram(ax1,values1,labels1,yLabel)\n",
    "    plot_histogram(ax2,values2,labels2,yLabel)\n",
    "    fig.set_size_inches(17, 7, forward=True)"
   ]
  },
  {
   "cell_type": "code",
   "execution_count": 2,
   "metadata": {
    "collapsed": false
   },
   "outputs": [
    {
     "name": "stdout",
     "output_type": "stream",
     "text": [
      "Number of tissues in BTO : 39\n",
      "Number of GO terms       : 1641\n"
     ]
    }
   ],
   "source": [
    "# extract the relevent tissue types\n",
    "tissues = {}\n",
    "inputFilename = '../data/Tissue_Name_Mappings.csv' # manually curated by Nico\n",
    "inputFile = open(inputFilename)\n",
    "atLine = 0\n",
    "for line in inputFile:\n",
    "    str_list = line.split(',')[1:]\n",
    "    for term in str_list:\n",
    "        if term == '' or term == '\\r\\n':\n",
    "            continue\n",
    "        else:\n",
    "            term = term.split('\\r\\n')[0] # to avoid end of string in the last term\n",
    "            tissues[term] = int(term.split('(')[1].split(')')[0])\n",
    "inputFile.close()\n",
    "\n",
    "# extract the relevant GO terms\n",
    "GOMap = {}\n",
    "inputFilename = '../data/BTO_GO.csv'\n",
    "inputFile = open(inputFilename)\n",
    "atLine = 0\n",
    "skipLines = 2\n",
    "for line in inputFile:\n",
    "    if atLine < skipLines:\n",
    "        atLine += 1\n",
    "        continue\n",
    "    str_list = line.split(',')[1:]\n",
    "    tissue = str_list[0]\n",
    "    if tissue in tissues:\n",
    "        for term in str_list[1:]:\n",
    "            if term == '' or term == '\\r\\n':\n",
    "                continue\n",
    "            else: \n",
    "                term = term.split('\\r\\n')[0] # to avoid end of string in the last term\n",
    "                if term not in GOMap:\n",
    "                    GOMap[term] = [tissue]    \n",
    "                else:\n",
    "                    GOMap[term].append(tissue)\n",
    "                    #print tissue, term\n",
    "inputFile.close()\n",
    "print 'Number of tissues in BTO : ' + str(len(tissues))\n",
    "print 'Number of GO terms       : ' + str(len(GOMap))"
   ]
  },
  {
   "cell_type": "code",
   "execution_count": 3,
   "metadata": {
    "collapsed": true
   },
   "outputs": [],
   "source": [
    "from goatools.associations import read_ncbi_gene2go\n",
    "from goatools.base import download_ncbi_associations\n",
    "\n",
    "def map_entrez_to_ensembl(path):\n",
    "    dict = {}\n",
    "    file = open(path)\n",
    "    for line in file:\n",
    "        vals = line.split('\\t')\n",
    "        ens_gene_id = vals[0]\n",
    "        entrez_id = vals[2]\n",
    "        dict[entrez_id] = ens_gene_id\n",
    "\n",
    "    file.close()\n",
    "    return dict\n",
    "\n",
    "def get_ensembl_ids(go_process_id, go_to_entrez_ids_human):\n",
    "    # taxids=[9606] means select only human.\n",
    "    # TODO: ask Marinka if we should use EXP code for evidence!!\n",
    "    \n",
    "    \"\"\", evidence_set='EXP'\"\"\"\n",
    "    entrez_ids = go_to_entrez_ids_human[GO_PROCESS_ID]\n",
    "    \n",
    "    # ensembl_ids = []\n",
    "    # for ent_id in entrez_ids:\n",
    "    #    ensembl_ids.append(entrez_to_ensembl[str(ent_id)])\n",
    "    # print(\"{N} GO terms associated with human NCBI Entrez GeneIDs\".format(N=len(go_to_entrez_ids_human)))\n",
    "    #return ensembl_ids\n",
    "    return entrez_ids\n",
    "\n"
   ]
  },
  {
   "cell_type": "markdown",
   "metadata": {},
   "source": [
    "# Load Ontologies and Associations and  Initialize Gene-Search Helper\n"
   ]
  },
  {
   "cell_type": "code",
   "execution_count": 16,
   "metadata": {
    "collapsed": false
   },
   "outputs": [
    {
     "name": "stderr",
     "output_type": "stream",
     "text": [
      "load obo file /Users/jjzhu/Documents/GTEx/local_data/go-basic.obo\n",
      "46545"
     ]
    },
    {
     "name": "stdout",
     "output_type": "stream",
     "text": [
      "/Users/jjzhu/Documents/GTEx/local_data/go-basic.obo: format-version(1.2) data-version(releases/2016-04-30)\n"
     ]
    },
    {
     "name": "stderr",
     "output_type": "stream",
     "text": [
      " nodes imported\n"
     ]
    }
   ],
   "source": [
    "from goatools.go_search import GoSearch\n",
    "\n",
    "gene2go = '/Users/jjzhu/Documents/GTEx/local_data/gene2go' # gene2go = download_ncbi_associations()\n",
    "assert os.path.exists(gene2go), \"file %s not found!\" % gene2go\n",
    "go_to_entrez_ids_human = read_ncbi_gene2go(gene2go, taxids=[9606], go2geneids=True)\n",
    "obo_file = '/Users/jjzhu/Documents/GTEx/local_data/go-basic.obo'\n",
    "assert os.path.exists(obo_file), \"file %s not found!\" % obo_file\n",
    "srchhelp = GoSearch(obo_file, go2items=go_to_entrez_ids_human)"
   ]
  },
  {
   "cell_type": "code",
   "execution_count": 45,
   "metadata": {
    "collapsed": false
   },
   "outputs": [
    {
     "data": {
      "image/png": "[encoded data removed]",
      "text/plain": [
       "<matplotlib.figure.Figure at 0x118f5f150>"
      ]
     },
     "metadata": {},
     "output_type": "display_data"
    }
   ],
   "source": [
    "geneCounts = []\n",
    "geneAllChildrenCounts = []\n",
    "# biomart_file_path = '../data/biomart_ensembl_to_entrez.txt'\n",
    "path_to_rpkm_file = '../local_data/transcript_rpkm_top_10000_var.txt'\n",
    "\n",
    "# entrez_to_ensembl = map_entrez_to_ensembl(biomart_file_path)\n",
    "for key in GOMap:\n",
    "    GO_PROCESS_ID = key  # Biological Process ID in Gene Ontology\n",
    "    # \n",
    "    geneids = srchhelp.get_items([GO_PROCESS_ID])\n",
    "    num_ensemble_ids = len(geneids)\n",
    "    geneCounts.append(num_ensemble_ids)\n",
    "    \n",
    "    # Get all children of GO\n",
    "    # Get Entrez GeneIDs for all GOs\n",
    "    gos_all = srchhelp.add_children_gos([GO_PROCESS_ID])\n",
    "    geneids = srchhelp.get_items(gos_all)\n",
    "    num_ensemble_children_ids = len(geneids)\n",
    "    geneAllChildrenCounts.append(num_ensemble_children_ids)\n",
    "    # print key + ': # of Ensemble IDs: ', num_ensemble_ids, '\\twith children: ', num_ensemble_children_ids\n",
    "\n",
    "idx = threshold_idx(geneAllChildrenCounts,5) # only keep the index of GO terms with at least 5 genes \n",
    "gc1 = [geneCounts[i] for i in idx]\n",
    "gc2 = [geneAllChildrenCounts[i] for i in idx]\n",
    "plot_multiple(gc1,'# genes',gc2,'# genes including children','# go terms')\n",
    "#gene_ids_ordered = []\n",
    "#NUM_SAMPLES = 8555\n",
    "#gene_features = np.empty((0, NUM_SAMPLES))"
   ]
  },
  {
   "cell_type": "code",
   "execution_count": null,
   "metadata": {
    "collapsed": false
   },
   "outputs": [],
   "source": []
  },
  {
   "cell_type": "code",
   "execution_count": null,
   "metadata": {
    "collapsed": false
   },
   "outputs": [],
   "source": [
    "# use the following for annotation\n",
    "from goatools.test_data.genes_NCBI_9606_ProteinCoding import GeneID2nt\n",
    "for geneid in geneids: # geneids associated with cell-cycle\n",
    "    nt = GeneID2nt.get(geneid, None)\n",
    "    if nt is not None:\n",
    "        print(\"{Symbol:<10} {desc}\".format(\n",
    "                Symbol = nt.Symbol, \n",
    "                desc = nt.description))"
   ]
  },
  {
   "cell_type": "code",
   "execution_count": null,
   "metadata": {
    "collapsed": true
   },
   "outputs": [],
   "source": []
  }
 ],
 "metadata": {
  "kernelspec": {
   "display_name": "Python 2",
   "language": "python",
   "name": "python2"
  },
  "language_info": {
   "codemirror_mode": {
    "name": "ipython",
    "version": 2
   },
   "file_extension": ".py",
   "mimetype": "text/x-python",
   "name": "python",
   "nbconvert_exporter": "python",
   "pygments_lexer": "ipython2",
   "version": "2.7.10"
  }
 },
 "nbformat": 4,
 "nbformat_minor": 0
}

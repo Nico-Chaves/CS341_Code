{
 "cells": [
  {
   "cell_type": "markdown",
   "metadata": {},
   "source": [
    "# Import Libraries"
   ]
  },
  {
   "cell_type": "code",
   "execution_count": 1,
   "metadata": {
    "collapsed": false
   },
   "outputs": [],
   "source": [
    "%matplotlib inline\n",
    "import os\n",
    "import numpy as np\n",
    "import pandas as pd\n",
    "import matplotlib.pyplot as plt\n",
    "import goatools\n",
    "from goatools.obo_parser import GODag"
   ]
  },
  {
   "cell_type": "markdown",
   "metadata": {},
   "source": [
    "# Ploting Functions"
   ]
  },
  {
   "cell_type": "code",
   "execution_count": 2,
   "metadata": {
    "collapsed": true
   },
   "outputs": [],
   "source": [
    "def threshold_idx(values,thres):\n",
    "    idx = []\n",
    "    for i in range(len(values)):\n",
    "        if values[i] > thres:\n",
    "            idx.append(i)\n",
    "    return idx\n",
    "\n",
    "def plot_histogram(ax,values,xLabel,yLabel):\n",
    "    # plotting\n",
    "    n, bins, patches = ax.hist(values, 50,  facecolor='green', alpha=0.75)\n",
    "    ax.set_xlabel(xLabel)\n",
    "    ax.set_ylabel(yLabel)\n",
    "    # plt.title(filename)\n",
    "    # plt.axis([0, 1e+06, 0, 20])\n",
    "    # ax.grid(True)\n",
    "    \n",
    "def plot_multiple(values1,labels1,values2,labels2,yLabel):\n",
    "    fig, ((ax1, ax2)) = plt.subplots(nrows=1, ncols=2)\n",
    "    plot_histogram(ax1,values1,labels1,yLabel)\n",
    "    plot_histogram(ax2,values2,labels2,yLabel)\n",
    "    fig.set_size_inches(17, 7, forward=True)"
   ]
  },
  {
   "cell_type": "markdown",
   "metadata": {},
   "source": [
    "# Load GO Terms"
   ]
  },
  {
   "cell_type": "code",
   "execution_count": 3,
   "metadata": {
    "collapsed": true
   },
   "outputs": [],
   "source": [
    "def get_tissue_GO_terms(tissueGOFilename):\n",
    "    # extract all relevant GO terms\n",
    "    GOMap = {}\n",
    "    # tissueGOFilename = '../data/BTO_GO.csv'\n",
    "    inputFile = open(tissueGOFilename)\n",
    "    atLine = 0\n",
    "    skipLines = 2\n",
    "    for line in inputFile:\n",
    "        if atLine < skipLines:\n",
    "            atLine += 1\n",
    "            continue\n",
    "        str_list = line.split(',')[1:]\n",
    "        tissue = str_list[0]\n",
    "        for term in str_list[1:]:\n",
    "            if term == '' or term == '\\r\\n':\n",
    "                continue\n",
    "            else: \n",
    "                term = term.split('\\r\\n')[0] # to avoid end of string in the last \n",
    "                if term not in GOMap:\n",
    "                    GOMap[term] = [tissue]    \n",
    "                else:\n",
    "                    GOMap[term].append(tissue)\n",
    "                    # print tissue, term      \n",
    "    inputFile.close()\n",
    "    # print 'Number of tissues in BTO : ' + str(len(tissues))\n",
    "    print 'Number of GO terms       : ' + str(len(GOMap))\n",
    "    return GOMap\n",
    "\n",
    "def get_handpicked_GO_terms(selectionFilename,tissueGOFilename):\n",
    "    # extract the relevent tissue types\n",
    "    tissues = {}\n",
    "    # selectionFilename = '../data/Tissue_Name_Mappings.csv' # manually curated by Nico\n",
    "    inputFile = open(selectionFilename)\n",
    "    atLine = 0\n",
    "    for line in inputFile:\n",
    "        str_list = line.split(',')[1:]\n",
    "        for term in str_list:\n",
    "            if term == '' or term == '\\r\\n':\n",
    "                continue\n",
    "            else:\n",
    "                term = term.split('\\r\\n')[0] # to avoid end of string in the last term\n",
    "                tissues[term] = int(term.split('(')[1].split(')')[0])\n",
    "    inputFile.close()\n",
    "\n",
    "    # extract the relevant GO terms\n",
    "    GOMap = {}\n",
    "    # tissueGOFilename = '../data/BTO_GO.csv'\n",
    "    inputFile = open(tissueGOFilename)\n",
    "    atLine = 0\n",
    "    skipLines = 2\n",
    "    for line in inputFile:\n",
    "        if atLine < skipLines:\n",
    "            atLine += 1\n",
    "            continue\n",
    "        str_list = line.split(',')[1:]\n",
    "        tissue = str_list[0]\n",
    "        if tissue in tissues:\n",
    "            for term in str_list[1:]:\n",
    "                if term == '' or term == '\\r\\n':\n",
    "                    continue\n",
    "                else: \n",
    "                    term = term.split('\\r\\n')[0] # to avoid end of string in the last term\n",
    "                    if term not in GOMap:\n",
    "                        GOMap[term] = [tissue]    \n",
    "                    else:\n",
    "                        GOMap[term].append(tissue)\n",
    "                        #print tissue, term\n",
    "    inputFile.close()\n",
    "    print 'Number of tissues in BTO : ' + str(len(tissues))\n",
    "    print 'Number of GO terms       : ' + str(len(GOMap))\n",
    "    return GOMap"
   ]
  },
  {
   "cell_type": "code",
   "execution_count": 4,
   "metadata": {
    "collapsed": true
   },
   "outputs": [],
   "source": [
    "from goatools.associations import read_ncbi_gene2go\n",
    "from goatools.base import download_ncbi_associations\n",
    "\n",
    "def map_entrez_to_ensembl(path):\n",
    "    dict = {}\n",
    "    file = open(path)\n",
    "    for line in file:\n",
    "        vals = line.split('\\t')\n",
    "        ens_gene_id = vals[0]\n",
    "        entrez_id = vals[2]\n",
    "        dict[entrez_id] = ens_gene_id\n",
    "\n",
    "    file.close()\n",
    "    return dict\n",
    "\n",
    "def get_ensembl_ids(go_process_id, go_to_entrez_ids_human):\n",
    "    # taxids=[9606] means select only human.\n",
    "    # TODO: ask Marinka if we should use EXP code for evidence!!\n",
    "    \n",
    "    \"\"\", evidence_set='EXP'\"\"\"\n",
    "    entrez_ids = go_to_entrez_ids_human[GO_PROCESS_ID]\n",
    "    \n",
    "    # ensembl_ids = []\n",
    "    # for ent_id in entrez_ids:\n",
    "    #    ensembl_ids.append(entrez_to_ensembl[str(ent_id)])\n",
    "    # print(\"{N} GO terms associated with human NCBI Entrez GeneIDs\".format(N=len(go_to_entrez_ids_human)))\n",
    "    #return ensembl_ids\n",
    "    return entrez_ids\n",
    "\n",
    "def convert_geneids_and_print(geneids):\n",
    "    for geneid in geneids: # geneids associated with cell-cycle\n",
    "        nt = GeneID2nt_hsa.get(geneid, None)\n",
    "        if nt is not None:\n",
    "            print(\"{Symbol:<10} {desc}\".format(\n",
    "                    Symbol = nt.Symbol, \n",
    "                    desc = nt.description))"
   ]
  },
  {
   "cell_type": "code",
   "execution_count": 29,
   "metadata": {
    "collapsed": true
   },
   "outputs": [],
   "source": [
    "def add_all_children(obj, gos):\n",
    "    \"\"\"Return children of input gos plus input gos.\"\"\"\n",
    "    lst = []\n",
    "    obo_dag = obj.obo_dag\n",
    "    get_children = lambda go_obj: list(go_obj.get_all_children()) + [go_obj.id]\n",
    "    for go_id in gos:\n",
    "        go_obj = obo_dag[go_id]\n",
    "        lst.extend(get_children(go_obj))\n",
    "    return set(lst)\n",
    "\n",
    "def add_all_parents(obj, gos):\n",
    "    \"\"\"Return children of input gos plus input gos.\"\"\"\n",
    "    lst = []\n",
    "    obo_dag = obj.obo_dag\n",
    "    \n",
    "    get_parents = lambda go_obj: list(go_obj.get_all_parents()) + [go_obj.id]\n",
    "    for go_id in gos:\n",
    "        go_obj = obo_dag[go_id]\n",
    "        lst.extend(get_parents(go_obj))\n",
    "    return set(lst)\n",
    "\n",
    "def get_parent_ids(obj,go_id):\n",
    "    obo_dag = obj.obo_dag\n",
    "    go_obj = obo_dag[go_id]\n",
    "    parents_ids = [term.id for term in go_obj.parents]\n",
    "    return set(parents_ids)\n",
    "\n",
    "def get_description(obj,go_id):\n",
    "    obo_dag = obj.obo_dag\n",
    "    go_obj = obo_dag[go_id]\n",
    "    return go_obj.name\n",
    "\n",
    "def create_black_list_genes(srchhelp,entrez_to_ensembl,GO_PROCESS_ID):\n",
    "    gos_all = add_all_children(srchhelp,[GO_PROCESS_ID])# get all descendents\n",
    "    num_descendents = len(gos_all) - 1\n",
    "    parent_set = get_parent_ids(srchhelp,GO_PROCESS_ID) # get direct parents\n",
    "    num_parents = len(parent_set)\n",
    "    gos_all = gos_all.union(parent_set) \n",
    "    # get all genes in this list\n",
    "    entrez_ids = srchhelp.get_items(gos_all)\n",
    "    num_genes = len(entrez_ids)\n",
    "    print GO_PROCESS_ID\n",
    "    print '\\t# of desendents:', str(num_descendents),'\\t# of parents:',str(num_parents)\n",
    "    # convert geneids to ensemble IDs\n",
    "    ensembl_ids = []\n",
    "    for ent_id in entrez_ids:\n",
    "        ensembl_ids.append(entrez_to_ensembl[str(ent_id)])\n",
    "    # print(\"{N} GO terms associated with human NCBI Entrez GeneIDs\".format(N=len(go_to_entrez_ids_human)))\n",
    "    #return ensembl_ids\n",
    "    print '\\t# of genes before conversion:', str(num_genes), '\\t# of genes after conversion:',str(len(ensembl_ids))\n",
    "    return ensembl_ids"
   ]
  },
  {
   "cell_type": "markdown",
   "metadata": {},
   "source": [
    "# Load Information From Externel Databases\n"
   ]
  },
  {
   "cell_type": "markdown",
   "metadata": {},
   "source": [
    "### Specify relevant path names"
   ]
  },
  {
   "cell_type": "code",
   "execution_count": 6,
   "metadata": {
    "collapsed": true
   },
   "outputs": [],
   "source": [
    "obo_file = '/Users/jjzhu/Documents/GTEx/local_data/go-basic.obo'\n",
    "gene2go = '/Users/jjzhu/Documents/GTEx/local_data/gene2go.txt' # gene2go = download_ncbi_associations()\n",
    "tissueGOFilename = '../data/BTO_GO.csv'\n",
    "biomart_file_path = '../data/biomart_ensembl_to_entrez.txt'"
   ]
  },
  {
   "cell_type": "markdown",
   "metadata": {},
   "source": [
    "### Load the Gene and GO Associations"
   ]
  },
  {
   "cell_type": "code",
   "execution_count": 7,
   "metadata": {
    "collapsed": true
   },
   "outputs": [],
   "source": [
    "assert os.path.exists(gene2go), \"file %s not found!\" % gene2go\n",
    "go_to_entrez_ids_human = read_ncbi_gene2go(gene2go, taxids=[9606], go2geneids=True)"
   ]
  },
  {
   "cell_type": "markdown",
   "metadata": {},
   "source": [
    "### Load the GO DAG data structure with associations"
   ]
  },
  {
   "cell_type": "code",
   "execution_count": 8,
   "metadata": {
    "collapsed": false
   },
   "outputs": [
    {
     "name": "stderr",
     "output_type": "stream",
     "text": [
      "load obo file /Users/jjzhu/Documents/GTEx/local_data/go-basic.obo\n",
      "46545"
     ]
    },
    {
     "name": "stdout",
     "output_type": "stream",
     "text": [
      "/Users/jjzhu/Documents/GTEx/local_data/go-basic.obo: format-version(1.2) data-version(releases/2016-04-30)\n"
     ]
    },
    {
     "name": "stderr",
     "output_type": "stream",
     "text": [
      " nodes imported\n"
     ]
    }
   ],
   "source": [
    "from goatools.go_search import GoSearch\n",
    "assert os.path.exists(obo_file), \"file %s not found!\" % obo_file\n",
    "srchhelp = GoSearch(obo_file, go2items=go_to_entrez_ids_human)"
   ]
  },
  {
   "cell_type": "markdown",
   "metadata": {},
   "source": [
    "### Load GO terms mapped to specific tissues "
   ]
  },
  {
   "cell_type": "code",
   "execution_count": 9,
   "metadata": {
    "collapsed": false
   },
   "outputs": [
    {
     "name": "stdout",
     "output_type": "stream",
     "text": [
      "Number of GO terms       : 6172\n"
     ]
    }
   ],
   "source": [
    "assert os.path.exists(tissueGOFilename), \"file %s not found!\" % tissueGOFilename\n",
    "GOMap = get_tissue_GO_terms(tissueGOFilename)"
   ]
  },
  {
   "cell_type": "markdown",
   "metadata": {},
   "source": [
    "### Load Gene ID covnversion maps"
   ]
  },
  {
   "cell_type": "code",
   "execution_count": 10,
   "metadata": {
    "collapsed": false
   },
   "outputs": [],
   "source": [
    "from goatools.test_data.genes_NCBI_9606_ProteinCoding import GeneID2nt as GeneID2nt_hsa # Gene Annotation\n",
    "assert os.path.exists(biomart_file_path), \"file %s not found!\" % biomart_file_path\n",
    "entrez_to_ensembl = map_entrez_to_ensembl(biomart_file_path)"
   ]
  },
  {
   "cell_type": "markdown",
   "metadata": {},
   "source": [
    "# Summarize the number of Associated Genes"
   ]
  },
  {
   "cell_type": "code",
   "execution_count": 34,
   "metadata": {
    "collapsed": false
   },
   "outputs": [
    {
     "name": "stdout",
     "output_type": "stream",
     "text": [
      "Number of GO terms with at least 30 terms is 477\n"
     ]
    },
    {
     "data": {
      "image/png": "[encoded data removed]",
      "text/plain": [
       "<matplotlib.figure.Figure at 0x10f3c2190>"
      ]
     },
     "metadata": {},
     "output_type": "display_data"
    }
   ],
   "source": [
    "minGeneThreshold = 30\n",
    "\n",
    "geneCounts = []\n",
    "geneAllChildrenCounts = []\n",
    "\n",
    "for key in GOMap:\n",
    "    GO_PROCESS_ID = key  # Biological Process ID in Gene Ontology\n",
    "    \n",
    "    # SINGLE GO TERM\n",
    "    geneids = srchhelp.get_items([GO_PROCESS_ID])\n",
    "    num_ensemble_ids = len(geneids)\n",
    "    geneCounts.append(num_ensemble_ids)\n",
    "    # if num_ensemble_ids > 10:\n",
    "    #   GO_NAME = srchhelp.obo_dag[GO_PROCESS_ID].name\n",
    "    #    print GO_PROCESS_ID, ':' ,GO_NAME\n",
    "    #    convert_geneids_and_print(geneids)\n",
    "    #    break\n",
    "    \n",
    "    # GO TERM WITH DESCENDENTS/PARENTS\n",
    "    gos_all = add_all_children(srchhelp,[GO_PROCESS_ID]) # get all desendents      \n",
    "    # gos_all = gos_all.union(get_parent_ids(srchhelp,GO_PROCESS_ID)) # get direct parents\n",
    "    \n",
    "    geneids = srchhelp.get_items(gos_all)\n",
    "    num_ensemble_children_ids = len(geneids)\n",
    "    geneAllChildrenCounts.append(num_ensemble_children_ids)  \n",
    "    \n",
    "    # print key + ': # of Ensemble IDs: ', num_ensemble_ids, '\\twith children: ', num_ensemble_children_ids\n",
    "    # print '\\t# of desendents', str(len(gos_w_children)), ',\\t# of parents', str(len(go_parent))\n",
    "\n",
    "idx = threshold_idx(geneAllChildrenCounts,minGeneThreshold) \n",
    "print 'Number of GO terms with at least',str(minGeneThreshold),'terms is', str(len(idx))\n",
    "gc1 = [geneCounts[i] for i in idx]\n",
    "gc2 = [geneAllChildrenCounts[i] for i in idx]\n",
    "plot_multiple(gc1,'# genes',gc2,'# genes including descendents and parents','# go terms')\n"
   ]
  },
  {
   "cell_type": "markdown",
   "metadata": {},
   "source": [
    "# Create Black List"
   ]
  },
  {
   "cell_type": "code",
   "execution_count": 33,
   "metadata": {
    "collapsed": false
   },
   "outputs": [
    {
     "name": "stdout",
     "output_type": "stream",
     "text": [
      "GO:0030852\n",
      "\t# of desendents: 11 \t# of parents: 1\n",
      "\t# of genes before conversion: 17 \t# of genes after conversion: 17\n",
      "['ENSG00000005483', 'ENSG00000139842', 'ENSG00000159216', 'ENSG00000142611', 'ENSG00000159189', 'ENSG00000173334', 'ENSG00000113525', 'ENSG00000131507', 'ENSG00000138795', 'ENSG00000281614', 'ENSG00000088992', 'ENSG00000130584', 'ENSG00000147162', 'ENSG00000181092', 'ENSG00000143575', 'ENSG00000131759', 'ENSG00000180353']\n"
     ]
    }
   ],
   "source": [
    "for key in GOMap:\n",
    "    GO_PROCESS_ID = key  # Biological Process ID in Gene Ontology\n",
    "    black_list_genes = create_black_list_genes(srchhelp,entrez_to_ensembl,GO_PROCESS_ID)\n",
    "    print black_list_genes\n",
    "    break\n",
    " "
   ]
  },
  {
   "cell_type": "code",
   "execution_count": null,
   "metadata": {
    "collapsed": true
   },
   "outputs": [],
   "source": []
  }
 ],
 "metadata": {
  "kernelspec": {
   "display_name": "Python 2",
   "language": "python",
   "name": "python2"
  },
  "language_info": {
   "codemirror_mode": {
    "name": "ipython",
    "version": 2
   },
   "file_extension": ".py",
   "mimetype": "text/x-python",
   "name": "python",
   "nbconvert_exporter": "python",
   "pygments_lexer": "ipython2",
   "version": "2.7.10"
  }
 },
 "nbformat": 4,
 "nbformat_minor": 0
}

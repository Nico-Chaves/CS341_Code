{
 "cells": [
  {
   "cell_type": "code",
   "execution_count": 49,
   "metadata": {
    "collapsed": false
   },
   "outputs": [],
   "source": [
    "%matplotlib inline  \n",
    "# from scipy import stats\n",
    "import numpy as np\n",
    "import pandas as pd\n",
    "import matplotlib.mlab as mlab\n",
    "import matplotlib.pyplot as plt"
   ]
  },
  {
   "cell_type": "code",
   "execution_count": 66,
   "metadata": {
    "collapsed": false
   },
   "outputs": [],
   "source": [
    "def short_summary(filename):\n",
    "    # compute and store the mean expression levels for each targetID\n",
    "    meanExpLevels = [] \n",
    "    rpkm_file = open(filename)\n",
    "    firstTarget = True\n",
    "    firstLine = True\n",
    "    for line in rpkm_file:\n",
    "        if firstLine:\n",
    "            firstLine = False\n",
    "            continue\n",
    "        else:\n",
    "            lineAsArr = line.split('\\t')\n",
    "            expLevels = [np.log(float(i)+1)  for i in lineAsArr]\n",
    "            meanExpLevels.append(sum(expLevels))\n",
    "    rpkm_file.close()\n",
    "\n",
    "    # print meanExpLevels\n",
    "    series = pd.Series(meanExpLevels)\n",
    "    print series.describe()\n",
    "    \n",
    "    # plotting\n",
    "    n, bins, patches = plt.hist(series, 50, normed=1, facecolor='green', alpha=0.75)\n",
    "    plt.xlabel('log mean expression')\n",
    "    plt.ylabel('fraction of transcripts')\n",
    "    plt.title(filename)\n",
    "    plt.grid(True)"
   ]
  },
  {
   "cell_type": "code",
   "execution_count": 67,
   "metadata": {
    "collapsed": false
   },
   "outputs": [
    {
     "name": "stdout",
     "output_type": "stream",
     "text": [
      "count    1000.000000\n",
      "mean        4.183445\n",
      "std         4.317225\n",
      "min         0.000000\n",
      "25%         0.130577\n",
      "50%         3.156947\n",
      "75%         7.207249\n",
      "max        21.485049\n",
      "dtype: float64\n"
     ]
    },
    {
     "data": {
      "image/png": "[encoded data removed]",
      "text/plain": [
       "<matplotlib.figure.Figure at 0x10e3245d0>"
      ]
     },
     "metadata": {},
     "output_type": "display_data"
    }
   ],
   "source": [
    "\"\"\"\n",
    "*********************\n",
    "        Main\n",
    "*********************\n",
    "\"\"\"\n",
    "\n",
    "if __name__ == \"__main__\":\n",
    "    \n",
    "    filename = 'tissue_test.txt' \n",
    "    short_summary(filename)\n",
    "    \n",
    "\n"
   ]
  },
  {
   "cell_type": "code",
   "execution_count": null,
   "metadata": {
    "collapsed": true
   },
   "outputs": [],
   "source": []
  },
  {
   "cell_type": "code",
   "execution_count": null,
   "metadata": {
    "collapsed": true
   },
   "outputs": [],
   "source": []
  }
 ],
 "metadata": {
  "kernelspec": {
   "display_name": "Python 2",
   "language": "python",
   "name": "python2"
  },
  "language_info": {
   "codemirror_mode": {
    "name": "ipython",
    "version": 2
   },
   "file_extension": ".py",
   "mimetype": "text/x-python",
   "name": "python",
   "nbconvert_exporter": "python",
   "pygments_lexer": "ipython2",
   "version": "2.7.11"
  }
 },
 "nbformat": 4,
 "nbformat_minor": 0
}

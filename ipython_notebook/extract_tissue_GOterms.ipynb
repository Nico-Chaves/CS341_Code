{
 "cells": [
  {
   "cell_type": "code",
   "execution_count": 41,
   "metadata": {
    "collapsed": false
   },
   "outputs": [],
   "source": [
    "%matplotlib inline  \n",
    "import numpy as np\n",
    "import pandas as pd\n",
    "import matplotlib.pyplot as plt\n",
    "import goatools\n",
    "import operator"
   ]
  },
  {
   "cell_type": "code",
   "execution_count": 5,
   "metadata": {
    "collapsed": false
   },
   "outputs": [
    {
     "name": "stdout",
     "output_type": "stream",
     "text": [
      "adipose tissue (16)\n",
      "16\n",
      "white adipose tissue (2)\n",
      "2\n",
      "Number of tissues in BTO : 39\n",
      "Number of GO terms       : 1641\n"
     ]
    }
   ],
   "source": [
    "# extract the relevent tissue types\n",
    "tissues = {}\n",
    "inputFilename = '../data/Tissue_Name_Mappings.csv' # manually curated by Nico\n",
    "inputFile = open(inputFilename)\n",
    "atLine = 0\n",
    "i = 0\n",
    "for line in inputFile:\n",
    "    i += 1\n",
    "    line = line.rstrip() # remove newline at end of line\n",
    "    supp_tissue_names = line.split(',')[1:]  # Names of tissues in supplementary file\n",
    "    for name in supp_tissue_names:\n",
    "        if name == '' or name == '\\r\\n':\n",
    "            continue\n",
    "        else:\n",
    "            #term = term.split('\\r\\n')[0] \n",
    "            if i < 2:\n",
    "                print name\n",
    "                print str(int(name.split('(')[1].split(')')[0]))\n",
    "            tissues[name] = int(name.split('(')[1].split(')')[0])\n",
    "inputFile.close()\n",
    "\n",
    "\n",
    "# extract the relevant GO terms\n",
    "GOMap = {}\n",
    "inputFilename = '../data/BTO_GO.csv'\n",
    "inputFile = open(inputFilename)\n",
    "atLine = 0\n",
    "skipLines = 2\n",
    "for line in inputFile:\n",
    "    if atLine < skipLines:\n",
    "        atLine += 1\n",
    "        continue\n",
    "    line = line.rstrip() # to avoid end of string in the last term\n",
    "    str_list = line.split(',')[1:]\n",
    "    tissue = str_list[0]\n",
    "\n",
    "    if tissue in tissues:\n",
    "        for term in str_list[1:]:\n",
    "            if term == '' or term == '\\r\\n':\n",
    "                continue\n",
    "            else: \n",
    "                #term = term.split('\\r\\n')[0] \n",
    "                if term not in GOMap:\n",
    "                    GOMap[term] = [tissue]    \n",
    "                else:\n",
    "                    GOMap[term].append(tissue)\n",
    "\n",
    "inputFile.close()\n",
    "print 'Number of tissues in BTO : ' + str(len(tissues))\n",
    "print 'Number of GO terms       : ' + str(len(GOMap))\n"
   ]
  },
  {
   "cell_type": "code",
   "execution_count": 7,
   "metadata": {
    "collapsed": true
   },
   "outputs": [],
   "source": [
    "from goatools.associations import read_ncbi_gene2go\n",
    "from goatools.base import download_ncbi_associations\n",
    "\n",
    "def map_entrez_to_ensembl(path):\n",
    "    dict = {}\n",
    "    file = open(path)\n",
    "    for line in file:\n",
    "        vals = line.split('\\t')\n",
    "        ens_gene_id = vals[0]\n",
    "        entrez_id = vals[2]\n",
    "        dict[entrez_id] = ens_gene_id\n",
    "\n",
    "    file.close()\n",
    "    return dict\n",
    "\n",
    "def get_ensembl_ids(go_process_id, entrez_to_ensembl):\n",
    "    gene2go = '../data/gene2go' # gene2go = download_ncbi_associations()\n",
    "    # taxids=[9606] means select only human.\n",
    "    # TODO: ask Marinka if we should use EXP code for evidence!!\n",
    "    go_to_entrez_ids_human = read_ncbi_gene2go(gene2go, taxids=[9606], go2geneids=True)\n",
    "    \"\"\", evidence_set='EXP'\"\"\"\n",
    "\n",
    "    entrez_ids = go_to_entrez_ids_human[GO_PROCESS_ID]\n",
    "    # ensembl_ids = []\n",
    "    # for ent_id in entrez_ids:\n",
    "    #    ensembl_ids.append(entrez_to_ensembl[str(ent_id)])\n",
    "    # print(\"{N} GO terms associated with human NCBI Entrez GeneIDs\".format(N=len(go_to_entrez_ids_human)))\n",
    "    #return ensembl_ids\n",
    "    return entrez_ids\n",
    "\n"
   ]
  },
  {
   "cell_type": "code",
   "execution_count": 8,
   "metadata": {
    "collapsed": false
   },
   "outputs": [
    {
     "name": "stdout",
     "output_type": "stream",
     "text": [
      "16439 GO terms associated with human NCBI Entrez GeneIDs\n",
      "# of Ensemble IDs:  1\n",
      "16439 GO terms associated with human NCBI Entrez GeneIDs\n",
      "# of Ensemble IDs:  1\n",
      "16439 GO terms associated with human NCBI Entrez GeneIDs\n",
      "# of Ensemble IDs:  16\n",
      "16440 GO terms associated with human NCBI Entrez GeneIDs\n",
      "# of Ensemble IDs:  0\n",
      "16440 GO terms associated with human NCBI Entrez GeneIDs\n",
      "# of Ensemble IDs:  0\n"
     ]
    },
    {
     "ename": "KeyboardInterrupt",
     "evalue": "",
     "output_type": "error",
     "traceback": [
      "\u001b[0;31m---------------------------------------------------------------------------\u001b[0m",
      "\u001b[0;31mKeyboardInterrupt\u001b[0m                         Traceback (most recent call last)",
      "\u001b[0;32m<ipython-input-8-971cfe74f944>\u001b[0m in \u001b[0;36m<module>\u001b[0;34m()\u001b[0m\n\u001b[1;32m      5\u001b[0m \u001b[0;32mfor\u001b[0m \u001b[0mkey\u001b[0m \u001b[0;32min\u001b[0m \u001b[0mGOMap\u001b[0m\u001b[0;34m:\u001b[0m\u001b[0;34m\u001b[0m\u001b[0m\n\u001b[1;32m      6\u001b[0m     \u001b[0mGO_PROCESS_ID\u001b[0m \u001b[0;34m=\u001b[0m \u001b[0mkey\u001b[0m  \u001b[0;31m# Biological Process ID in Gene Ontology\u001b[0m\u001b[0;34m\u001b[0m\u001b[0m\n\u001b[0;32m----> 7\u001b[0;31m     \u001b[0mensembl_ids\u001b[0m \u001b[0;34m=\u001b[0m \u001b[0mget_ensembl_ids\u001b[0m\u001b[0;34m(\u001b[0m\u001b[0mGO_PROCESS_ID\u001b[0m\u001b[0;34m,\u001b[0m \u001b[0mentrez_to_ensembl\u001b[0m\u001b[0;34m)\u001b[0m\u001b[0;34m\u001b[0m\u001b[0m\n\u001b[0m\u001b[1;32m      8\u001b[0m     \u001b[0mnum_ensemble_ids\u001b[0m \u001b[0;34m=\u001b[0m \u001b[0mlen\u001b[0m\u001b[0;34m(\u001b[0m\u001b[0mensembl_ids\u001b[0m\u001b[0;34m)\u001b[0m\u001b[0;34m\u001b[0m\u001b[0m\n\u001b[1;32m      9\u001b[0m     \u001b[0mgeneCounts\u001b[0m\u001b[0;34m.\u001b[0m\u001b[0mappend\u001b[0m\u001b[0;34m(\u001b[0m\u001b[0mnum_ensemble_ids\u001b[0m\u001b[0;34m)\u001b[0m\u001b[0;34m\u001b[0m\u001b[0m\n",
      "\u001b[0;32m<ipython-input-7-53b08a8965ff>\u001b[0m in \u001b[0;36mget_ensembl_ids\u001b[0;34m(go_process_id, entrez_to_ensembl)\u001b[0m\n\u001b[1;32m     18\u001b[0m     \u001b[0;31m# taxids=[9606] means select only human.\u001b[0m\u001b[0;34m\u001b[0m\u001b[0;34m\u001b[0m\u001b[0m\n\u001b[1;32m     19\u001b[0m     \u001b[0;31m# TODO: ask Marinka if we should use EXP code for evidence!!\u001b[0m\u001b[0;34m\u001b[0m\u001b[0;34m\u001b[0m\u001b[0m\n\u001b[0;32m---> 20\u001b[0;31m     \u001b[0mgo_to_entrez_ids_human\u001b[0m \u001b[0;34m=\u001b[0m \u001b[0mread_ncbi_gene2go\u001b[0m\u001b[0;34m(\u001b[0m\u001b[0mgene2go\u001b[0m\u001b[0;34m,\u001b[0m \u001b[0mtaxids\u001b[0m\u001b[0;34m=\u001b[0m\u001b[0;34m[\u001b[0m\u001b[0;36m9606\u001b[0m\u001b[0;34m]\u001b[0m\u001b[0;34m,\u001b[0m \u001b[0mgo2geneids\u001b[0m\u001b[0;34m=\u001b[0m\u001b[0mTrue\u001b[0m\u001b[0;34m)\u001b[0m\u001b[0;34m\u001b[0m\u001b[0m\n\u001b[0m\u001b[1;32m     21\u001b[0m     \u001b[0;34m\"\"\", evidence_set='EXP'\"\"\"\u001b[0m\u001b[0;34m\u001b[0m\u001b[0m\n\u001b[1;32m     22\u001b[0m \u001b[0;34m\u001b[0m\u001b[0m\n",
      "\u001b[0;32m/Library/Python/2.7/site-packages/goatools/associations.pyc\u001b[0m in \u001b[0;36mread_ncbi_gene2go\u001b[0;34m(fin_gene2go, taxids, **kws)\u001b[0m\n\u001b[1;32m     96\u001b[0m                 \u001b[0mflds\u001b[0m \u001b[0;34m=\u001b[0m \u001b[0mline\u001b[0m\u001b[0;34m.\u001b[0m\u001b[0msplit\u001b[0m\u001b[0;34m(\u001b[0m\u001b[0;34m'\\t'\u001b[0m\u001b[0;34m)\u001b[0m\u001b[0;34m\u001b[0m\u001b[0m\n\u001b[1;32m     97\u001b[0m                 \u001b[0;32mif\u001b[0m \u001b[0mlen\u001b[0m\u001b[0;34m(\u001b[0m\u001b[0mflds\u001b[0m\u001b[0;34m)\u001b[0m \u001b[0;34m>=\u001b[0m \u001b[0;36m5\u001b[0m\u001b[0;34m:\u001b[0m\u001b[0;34m\u001b[0m\u001b[0m\n\u001b[0;32m---> 98\u001b[0;31m                     \u001b[0mtaxid_curr\u001b[0m\u001b[0;34m,\u001b[0m \u001b[0mgeneid\u001b[0m\u001b[0;34m,\u001b[0m \u001b[0mgo_id\u001b[0m\u001b[0;34m,\u001b[0m \u001b[0mevidence\u001b[0m\u001b[0;34m,\u001b[0m \u001b[0mqualifier\u001b[0m \u001b[0;34m=\u001b[0m \u001b[0mline\u001b[0m\u001b[0;34m.\u001b[0m\u001b[0msplit\u001b[0m\u001b[0;34m(\u001b[0m\u001b[0;34m'\\t'\u001b[0m\u001b[0;34m)\u001b[0m\u001b[0;34m[\u001b[0m\u001b[0;34m:\u001b[0m\u001b[0;36m5\u001b[0m\u001b[0;34m]\u001b[0m\u001b[0;34m\u001b[0m\u001b[0m\n\u001b[0m\u001b[1;32m     99\u001b[0m                     \u001b[0mtaxid_curr\u001b[0m \u001b[0;34m=\u001b[0m \u001b[0mint\u001b[0m\u001b[0;34m(\u001b[0m\u001b[0mtaxid_curr\u001b[0m\u001b[0;34m)\u001b[0m\u001b[0;34m\u001b[0m\u001b[0m\n\u001b[1;32m    100\u001b[0m                     \u001b[0;31m# NOT: Used when gene is expected to have function F, but does NOT.\u001b[0m\u001b[0;34m\u001b[0m\u001b[0;34m\u001b[0m\u001b[0m\n",
      "\u001b[0;31mKeyboardInterrupt\u001b[0m: "
     ]
    }
   ],
   "source": [
    "geneCounts = []\n",
    "biomart_file_path = '../data/biomart_ensembl_to_entrez.txt'\n",
    "path_to_rpkm_file = '../local_data/transcript_rpkm_top_10000_var.txt'\n",
    "entrez_to_ensembl = map_entrez_to_ensembl(biomart_file_path)\n",
    "for key in GOMap:\n",
    "    GO_PROCESS_ID = key  # Biological Process ID in Gene Ontology\n",
    "    ensembl_ids = get_ensembl_ids(GO_PROCESS_ID, entrez_to_ensembl)\n",
    "    num_ensemble_ids = len(ensembl_ids)\n",
    "    geneCounts.append(num_ensemble_ids)\n",
    "    print key + ': # of Ensemble IDs: ', num_ensemble_ids\n",
    "\n",
    "#gene_ids_ordered = []\n",
    "#NUM_SAMPLES = 8555\n",
    "#gene_features = np.empty((0, NUM_SAMPLES))"
   ]
  },
  {
   "cell_type": "code",
   "execution_count": 8,
   "metadata": {
    "collapsed": false
   },
   "outputs": [
    {
     "name": "stdout",
     "output_type": "stream",
     "text": [
      "16439 GO terms associated with human NCBI Entrez GeneIDs\n"
     ]
    }
   ],
   "source": [
    "biomart_file_path = '../data/biomart_ensembl_to_entrez.txt'\n",
    "entrez_to_ensembl = map_entrez_to_ensembl(biomart_file_path)\n",
    "gene2go = '../data/gene2go.txt' \n",
    "\n",
    "# taxids=[9606] means select only human.\n",
    "go_to_entrez_ids_human = read_ncbi_gene2go(gene2go, taxids=[9606], go2geneids=True)\n",
    "print(\"{N} GO terms associated with human NCBI Entrez GeneIDs\".format(N=len(go_to_entrez_ids_human)))\n"
   ]
  },
  {
   "cell_type": "code",
   "execution_count": 25,
   "metadata": {
    "collapsed": false,
    "scrolled": true
   },
   "outputs": [],
   "source": [
    "# Get the GO process IDs from supplementary file\n",
    "path_to_supplementary_file = '../data/Supplementary_Table_9_ng_3259_S10.csv'\n",
    "inputFile = open(path_to_supplementary_file)\n",
    "atLine = 0\n",
    "skipLines = 2\n",
    "i = 0\n",
    "GO_PROCESS_ID_COUNTS = {}  # GO_PROCESS_ID_COUNTS['GO:0071373'] should eventually give the\n",
    "                # number of ensembl genes that this GO term is associated with.\n",
    "for line in inputFile:\n",
    "    if atLine < skipLines:\n",
    "        atLine += 1\n",
    "        continue\n",
    "    i += 1\n",
    "    line = line.rstrip()\n",
    "    fields = filter(None, line.split(',')[1:])  # Remove all empty strings from the list\n",
    "    for id in fields[1:]:\n",
    "        GO_PROCESS_ID_COUNTS[id] = 0"
   ]
  },
  {
   "cell_type": "code",
   "execution_count": 26,
   "metadata": {
    "collapsed": false
   },
   "outputs": [],
   "source": [
    "# Get number of ensembl IDs associated with each GO process\n",
    "for id in GO_PROCESS_ID_COUNTS.keys():\n",
    "    entrez_ids = go_to_entrez_ids_human[id]\n",
    "    #print '# of Entrez IDs associated with ', id, ' = ', len(entrez_ids)\n",
    "    ensembl_ids = []\n",
    "    for ent_id in entrez_ids:\n",
    "        if str(ent_id) in entrez_to_ensembl:\n",
    "            ensembl_ids.append(entrez_to_ensembl[str(ent_id)])\n",
    "    GO_PROCESS_ID_COUNTS[id] = len(ensembl_ids)\n",
    "\n",
    "    #print '# of Ensembl IDs associated with ', id, ' = ', len(ensembl_ids)"
   ]
  },
  {
   "cell_type": "code",
   "execution_count": 36,
   "metadata": {
    "collapsed": false
   },
   "outputs": [
    {
     "data": {
      "image/png": "[encoded data removed]",
      "text/plain": [
       "<matplotlib.figure.Figure at 0x117414050>"
      ]
     },
     "metadata": {},
     "output_type": "display_data"
    }
   ],
   "source": [
    "# Plot the histogram showing how many gene IDs that GO terms map to\n",
    "plt.hist(GO_PROCESS_ID_COUNTS.values(), bins=range(0,110,10))\n",
    "plt.show()"
   ]
  },
  {
   "cell_type": "code",
   "execution_count": 51,
   "metadata": {
    "collapsed": false
   },
   "outputs": [],
   "source": [
    "# Generate a sorted list of GO terms in order of how many genes the term is associated with\n",
    "sorted_GO_terms = sorted(GO_PROCESS_ID_COUNTS.items(), key=operator.itemgetter(1), reverse=True)\n",
    "outputFile = open('../data/GO_term_gene_counts.txt', 'w')\n",
    "outputFile.write('GO Process ID' + '\\t' + 'Num_Genes_In_Ensembl' + '\\n')\n",
    "for (GO_term, count) in sorted_GO_terms:\n",
    "    outputFile.write(GO_term + '\\t' + str(count) + '\\n')"
   ]
  },
  {
   "cell_type": "code",
   "execution_count": null,
   "metadata": {
    "collapsed": true
   },
   "outputs": [],
   "source": []
  }
 ],
 "metadata": {
  "kernelspec": {
   "display_name": "Python 2",
   "language": "python",
   "name": "python2"
  },
  "language_info": {
   "codemirror_mode": {
    "name": "ipython",
    "version": 2
   },
   "file_extension": ".py",
   "mimetype": "text/x-python",
   "name": "python",
   "nbconvert_exporter": "python",
   "pygments_lexer": "ipython2",
   "version": "2.7.11"
  }
 },
 "nbformat": 4,
 "nbformat_minor": 0
}

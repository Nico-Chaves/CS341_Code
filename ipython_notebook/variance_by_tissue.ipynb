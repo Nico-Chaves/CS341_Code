{
 "cells": [
  {
   "cell_type": "code",
   "execution_count": 19,
   "metadata": {
    "collapsed": true
   },
   "outputs": [],
   "source": [
    "# TODO: Edit/run this on all 55,000 rows, not just the top 10,000\n",
    "\n",
    "from collections import Counter\n",
    "import numpy as np\n",
    "import pandas as pd\n",
    "import matplotlib.pyplot as plt\n",
    "%matplotlib inline"
   ]
  },
  {
   "cell_type": "code",
   "execution_count": 9,
   "metadata": {
    "collapsed": true
   },
   "outputs": [],
   "source": [
    "def expression_dataframe(spec_donors=[],reject_donors=[],donor_sex=None,donor_age=[],output_name=None):\n",
    "    \n",
    "    #        This function constructs a dataframe of all RPKM data for desired donors/ages/sexes\n",
    "    #        Most of the code is copied from functions in PCA_and_plot/average_expression_by_tissue, so look there \n",
    "    #        for details.\n",
    "\n",
    "    # DONORS BY ID\n",
    "    if not spec_donors:\n",
    "        all_donors = open('../data/donors_list.txt')\n",
    "        donor_list = [ID[0:-1] for ID in all_donors if ID[0:-1] not in reject_donors]\n",
    "        all_donors.close()\n",
    "    else:\n",
    "        donor_list = spec_donors\n",
    "    # dictionary of donor IDs, and an array that will be [sex,age]\n",
    "    donor_dict = dict((ID,[]) for ID in donor_list)\n",
    "\n",
    "    # DONORS BY AGE AND SEX\n",
    "    donor_info = open('../data/donor_info.txt')\n",
    "    for line in donor_info:\n",
    "        # info is [ID,sex,age,death]\n",
    "        info = line.split('\\t')\n",
    "        if info[0] in donor_list:\n",
    "            # check sex\n",
    "            if donor_sex and info[1] != donor_sex:\n",
    "                del donor_dict[info[0]]\n",
    "                continue\n",
    "            else:\n",
    "                donor_dict[info[0]].append(info[1])\n",
    "            # check age    \n",
    "            age = info[2].split('-')[0]\n",
    "            if donor_age and age not in donor_age:\n",
    "                del donor_dict[info[0]]\n",
    "                continue\n",
    "            else:\n",
    "                donor_dict[info[0]].append(age)\n",
    "    donor_info.close()\n",
    "\n",
    "    # CONSTRUCT MATRIX\n",
    "    total_matrix = np.zeros((10000,0))\n",
    "    total_tissues = []\n",
    "\n",
    "    # metadata on relevant points\n",
    "    for ID in donor_dict.keys():\n",
    "        metafile = open('../data/Donor_Metadata_Enhanced/donor_meta_'+ID+'.txt')\n",
    "        next(metafile)\n",
    "        next(metafile)\n",
    "        next(metafile)\n",
    "        next(metafile)\n",
    "        # tissue type of each column\n",
    "        donor_tissues = []\n",
    "        for line in metafile:\n",
    "            tissue = line.split('\\t')[1]\n",
    "            donor_tissues.append(tissue)\n",
    "        metafile.close()\n",
    "        # get data\n",
    "        donor_matrix = np.zeros((10000,len(donor_tissues)))\n",
    "        row = 0\n",
    "        donorfile = open('../data/donor_matrices_fixed/donor_'+ID+'.txt')\n",
    "        for line in donorfile:\n",
    "            # add each row to donor matrix\n",
    "            donor_matrix[row,:] = line.split('\\t')\n",
    "            row = row+1\n",
    "        # add this donor to total matrix\n",
    "        total_matrix = np.concatenate((total_matrix, donor_matrix), axis=1)\n",
    "        total_tissues.extend(donor_tissues)\n",
    "        donorfile.close()\n",
    "    \n",
    "    df_all = pd.DataFrame(total_matrix,columns=total_tissues)\n",
    "    # save to file\n",
    "    if output_name:\n",
    "        df_all.to_csv(output_name,sep='\\t')\n",
    "        print 'Dataframe saved as ' + output_name\n",
    "    return df_all"
   ]
  },
  {
   "cell_type": "code",
   "execution_count": 40,
   "metadata": {
    "collapsed": false
   },
   "outputs": [],
   "source": [
    "def sample_variance_by_tissue(df_all,output_name = None):\n",
    "    #        This function takes a dataframe and creates a new dataframe with a column for each tissue\n",
    "    #        and a row for each of the following:\n",
    "    #            - number of samples of that tissue\n",
    "    #            - average variance of expression of transcripts across samples of that tissue\n",
    "    #            - variance of variances of expression of transcripts across samples of that tissue\n",
    "    #            - maximum pairwise euclidean distance of samples of that tissue\n",
    "    #        It also makes a dataframe with the variance of each transcript across samples of each tissue.\n",
    "    \n",
    "    \n",
    "    tissues = set(df_all.columns.values)\n",
    "    df_stats = pd.DataFrame(index = ['n_samples','avg_var','var_var','max_dist'],columns=tissues)\n",
    "    df_vars = pd.DataFrame(columns = tissues)\n",
    "\n",
    "    for tissue in tissues:\n",
    "        # variance dataframe\n",
    "        df_tissue = df_all[tissue]\n",
    "        df_vars[tissue] = df_tissue.var(axis=1)\n",
    "        n_cols = df_tissue.shape[1]\n",
    "        df_stats.loc['n_samples',tissue] = n_cols\n",
    "        df_stats.loc['avg_var',tissue] = df_tissue.var(axis=1).mean(axis=0)\n",
    "        df_stats.loc['var_var',tissue] = df_tissue.var(axis=1).var(axis=0)\n",
    "        \n",
    "        distance = 0\n",
    "        for col1 in range(n_cols):\n",
    "            for col2 in range(col1+1,n_cols):\n",
    "                dist = np.linalg.norm(df_tissue.iloc[:,col1] - df_tissue.iloc[:,col2])\n",
    "                if dist > distance:\n",
    "                    distance = dist\n",
    "        df_stats.loc['max_dist',tissue] = distance\n",
    "    \n",
    "    # save to file\n",
    "    if output_name:\n",
    "        df_stats.to_csv(output_name,sep='\\t')\n",
    "        print 'Dataframe saved as ' + output_name\n",
    "    return df_stats,df_vars"
   ]
  },
  {
   "cell_type": "code",
   "execution_count": 41,
   "metadata": {
    "collapsed": false,
    "scrolled": true
   },
   "outputs": [
    {
     "name": "stdout",
     "output_type": "stream",
     "text": [
      "Dataframe saved as ../csv_output_files/variance_stats.csv\n"
     ]
    }
   ],
   "source": [
    "#df_all = expression_dataframe()\n",
    "[df_stats,df_vars] = sample_variance_by_tissue(df_all,output_name='../csv_output_files/variance_stats.csv')"
   ]
  },
  {
   "cell_type": "code",
   "execution_count": 57,
   "metadata": {
    "collapsed": false
   },
   "outputs": [
    {
     "name": "stdout",
     "output_type": "stream",
     "text": [
      "n_samples            393\n",
      "avg_var      1.27611e+07\n",
      "var_var      6.80041e+17\n",
      "max_dist      1.4621e+06\n",
      "Name: Whole Blood, dtype: object\n"
     ]
    },
    {
     "data": {
      "text/plain": [
       "<matplotlib.axes._subplots.AxesSubplot at 0x10f11e390>"
      ]
     },
     "execution_count": 57,
     "metadata": {},
     "output_type": "execute_result"
    },
    {
     "data": {
      "image/png": "[encoded data removed]",
      "text/plain": [
       "<matplotlib.figure.Figure at 0x10ddeec50>"
      ]
     },
     "metadata": {},
     "output_type": "display_data"
    }
   ],
   "source": [
    "print df_stats['Whole Blood']\n",
    "df_vars['Whole Blood'].plot.hist(bins=10,range=(0,1000))"
   ]
  },
  {
   "cell_type": "code",
   "execution_count": 58,
   "metadata": {
    "collapsed": false
   },
   "outputs": [
    {
     "name": "stdout",
     "output_type": "stream",
     "text": [
      "n_samples            103\n",
      "avg_var           233017\n",
      "var_var      1.22611e+14\n",
      "max_dist          193708\n",
      "Name: Pituitary, dtype: object\n"
     ]
    },
    {
     "data": {
      "text/plain": [
       "<matplotlib.axes._subplots.AxesSubplot at 0x10f3627d0>"
      ]
     },
     "execution_count": 58,
     "metadata": {},
     "output_type": "execute_result"
    },
    {
     "data": {
      "image/png": "[encoded data removed]",
      "text/plain": [
       "<matplotlib.figure.Figure at 0x106e3a1d0>"
      ]
     },
     "metadata": {},
     "output_type": "display_data"
    }
   ],
   "source": [
    "print df_stats['Pituitary']\n",
    "df_vars['Pituitary'].plot.hist(bins=10,range=(0,1000))"
   ]
  },
  {
   "cell_type": "code",
   "execution_count": 59,
   "metadata": {
    "collapsed": false
   },
   "outputs": [
    {
     "name": "stdout",
     "output_type": "stream",
     "text": [
      "n_samples           193\n",
      "avg_var          632482\n",
      "var_var      5.8836e+14\n",
      "max_dist         243367\n",
      "Name: Stomach, dtype: object\n"
     ]
    },
    {
     "data": {
      "text/plain": [
       "<matplotlib.axes._subplots.AxesSubplot at 0x10f51cad0>"
      ]
     },
     "execution_count": 59,
     "metadata": {},
     "output_type": "execute_result"
    },
    {
     "data": {
      "image/png": "[encoded data removed]",
      "text/plain": [
       "<matplotlib.figure.Figure at 0x10f7c9a90>"
      ]
     },
     "metadata": {},
     "output_type": "display_data"
    }
   ],
   "source": [
    "print df_stats['Stomach']\n",
    "df_vars['Stomach'].plot.hist(bins=10,range=(0,1000))"
   ]
  },
  {
   "cell_type": "code",
   "execution_count": null,
   "metadata": {
    "collapsed": true
   },
   "outputs": [],
   "source": []
  }
 ],
 "metadata": {
  "kernelspec": {
   "display_name": "Python 2",
   "language": "python",
   "name": "python2"
  },
  "language_info": {
   "codemirror_mode": {
    "name": "ipython",
    "version": 2
   },
   "file_extension": ".py",
   "mimetype": "text/x-python",
   "name": "python",
   "nbconvert_exporter": "python",
   "pygments_lexer": "ipython2",
   "version": "2.7.11"
  }
 },
 "nbformat": 4,
 "nbformat_minor": 0
}

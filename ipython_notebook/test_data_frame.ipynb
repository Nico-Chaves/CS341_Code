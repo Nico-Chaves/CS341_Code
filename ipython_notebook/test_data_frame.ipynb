{
 "cells": [
  {
   "cell_type": "code",
   "execution_count": 2,
   "metadata": {
    "collapsed": false
   },
   "outputs": [],
   "source": [
    "from collections import Counter\n",
    "import numpy as np\n",
    "import pandas as pd\n",
    "import itertools as its"
   ]
  },
  {
   "cell_type": "code",
   "execution_count": 8,
   "metadata": {
    "collapsed": false
   },
   "outputs": [],
   "source": [
    "def construct_matrix(spec_donors=[],reject_donors=[],donor_sex=None,donor_age=[],spec_tissues=[],reject_tissues=[],\n",
    "                       top_tissues=None,min_tissue_count=None):\n",
    "    #     This function builds a numpy matrix and associated data arrays for the specified\n",
    "    \n",
    "    #     --Parameters--\n",
    "    #     spec_donors: Array of donor ID strings to include. Leave blank for all donors.\n",
    "    #     reject_donors: Array of donor IDs to remove. Leave blank to reject no donors.\n",
    "    #     donor_sex: '1' for only males, '2' for only females, None (or blank) for all donors.\n",
    "    #     donor_age: Array of age-decade strings to include, e.g. ['20','30','40']. Leave blank for all donors.\n",
    "    #     spec_tissues: Array of tissue names to include. Leave blank for all tissues.\n",
    "    #     reject_tissues: Array of tissue names to remove. Leave blank to reject no tissues.\n",
    "    #     top_tissues: Number of most commonly sampled tissues to include. Leave blank to include all tissues.\n",
    "    #     min_tissue_count: Minimum number of samples to include a tissue. Leave blank to include all tissues.\n",
    "\n",
    "    #     Note: spec_donors and reject_donors are mutually exclusive.\n",
    "    #     Note: spec_tissues and reject_tissues are mutually exclusive.\n",
    "    #     Note: top_tissues and min_tissue_count are mutually exclusive.\n",
    "    \n",
    "    #     --Returns--\n",
    "    #     multi_matrix: Numpy matrix of 10,000 rows, column for each included sample\n",
    "    #     point_ID: Array of donor IDs for each column in multi_matrix\n",
    "    #     point_sex: Array of donor sex for each column in multi_matrix\n",
    "    #     point_age: Array of donor age for each column in multi_matrix\n",
    "    #     point_tissue: Array of tissue type for each column in multi_matrix\n",
    "    #     point_tissue_group: Array of tissue group (just first term of tissue type) for each column in multi_matrix\n",
    "\n",
    "    # DONORS BY ID\n",
    "    if not spec_donors:\n",
    "        all_donors = open('../data/donors_list.txt')\n",
    "        donor_list = [ID[0:-1] for ID in all_donors if ID[0:-1] not in reject_donors]\n",
    "        all_donors.close()\n",
    "    else:\n",
    "        donor_list = spec_donors\n",
    "    # dictionary of donor IDs, and an array that will be [sex,age]\n",
    "    donor_dict = dict((ID,[]) for ID in donor_list)\n",
    "\n",
    "    # DONORS BY AGE AND SEX\n",
    "    donor_info = open('../data/donor_info.txt')\n",
    "    for line in donor_info:\n",
    "        # info is [ID,sex,age,death]\n",
    "        info = line.split('\\t')\n",
    "        if info[0] in donor_list:\n",
    "            # check sex\n",
    "            if donor_sex and info[1] != donor_sex:\n",
    "                del donor_dict[info[0]]\n",
    "                continue\n",
    "            else:\n",
    "                donor_dict[info[0]].append(info[1])\n",
    "            # check age    \n",
    "            age = info[2].split('-')[0]\n",
    "            if donor_age and age not in donor_age:\n",
    "                del donor_dict[info[0]]\n",
    "                continue\n",
    "            else:\n",
    "                donor_dict[info[0]].append(age)\n",
    "    donor_info.close()\n",
    "\n",
    "    # TISSUES BY TYPE AND SAMPLE COUNT\n",
    "    tissues = Counter()\n",
    "    for ID in donor_dict.keys():\n",
    "        metafile = open('../data/Donor_Metadata_Enhanced/donor_meta_'+ID+'.txt')\n",
    "        headerLines = 4\n",
    "        lineCounter = 0\n",
    "        for line in metafile:\n",
    "            # skip the first four lines of header\n",
    "            if lineCounter < headerLines:\n",
    "                lineCounter += 1\n",
    "                continue \n",
    "            # look for tissue type listed in meta file\n",
    "            tissue = line.split('\\t')[1][0:-1]\n",
    "            if spec_tissues and tissue in spec_tissues:\n",
    "                tissues[tissue] = tissues.get(tissue,0) + 1\n",
    "            elif not spec_tissues and tissue not in reject_tissues:\n",
    "                tissues[tissue] = tissues.get(tissue,0) + 1\n",
    "        metafile.close()\n",
    "    if min_tissue_count:\n",
    "        tissue_list = [key for key,value in tissues.iteritems() if value >= min_tissue_count]\n",
    "    else:\n",
    "        tissue_list = [key for key,value in tissues.most_common(top_tissues)]\n",
    "\n",
    "    # CONSTRUCT MATRIX\n",
    "    # initialize column (to be removed) and info types\n",
    "    multi_matrix = np.zeros((10000,1))\n",
    "    point_ID = []\n",
    "    point_sex = []\n",
    "    point_age = []\n",
    "    point_tissue = []\n",
    "    point_tissue_group = []\n",
    "    # metadata on relevant points\n",
    "    \n",
    "    for ID in sorted(donor_dict.keys()):\n",
    "        metafile = open('../data/Donor_Metadata_Enhanced/donor_meta_'+ID+'.txt')\n",
    "        # column indices for relevant tissues\n",
    "        # print '../data/Donor_Metadata_Enhanced/donor_meta_'+ID+'.txt'\n",
    "        columns = []\n",
    "        column = 0\n",
    "        headerLines = 4\n",
    "        lineCounter = 0\n",
    "        for line in metafile:\n",
    "            # deal with the first four lines of header\n",
    "            if lineCounter < headerLines:\n",
    "                lineCounter += 1\n",
    "                continue \n",
    "            tissue = line.split('\\t')[1][0:-1]      \n",
    "            if tissue in tissue_list:\n",
    "                columns.append(column)\n",
    "                point_ID.append(ID)\n",
    "                point_sex.append(donor_dict[ID][0])\n",
    "                point_age.append(donor_dict[ID][1])\n",
    "                point_tissue.append(tissue)\n",
    "                point_tissue_group.append(tissue.split('-')[0])\n",
    "            column = column + 1\n",
    "        metafile.close()\n",
    "        # get data\n",
    "        donor_matrix = np.zeros((10000,len(columns)))\n",
    "        row = 0\n",
    "        donorfile = open('../data/donor_matrices_fixed/donor_'+ID+'.txt')\n",
    "        for line in donorfile:\n",
    "            # from file, take desired tissue columns and put in donor matrix\n",
    "            values = [line.split('\\t')[ind] for ind in columns]\n",
    "            donor_matrix[row,:] = values\n",
    "            row = row+1\n",
    "        donorfile.close()\n",
    "        # concatenate donor matrices\n",
    "        multi_matrix = np.concatenate((multi_matrix,donor_matrix),axis=1)\n",
    "    multi_matrix = np.delete(multi_matrix,0,1)\n",
    "    \n",
    "    print 'Matrix constructed with ' + str(multi_matrix.shape[1]) + ' samples!'\n",
    "    return [multi_matrix, point_ID, point_sex, point_age, point_tissue, point_tissue_group]\n",
    "\n",
    "\n",
    "# In[ ]:"
   ]
  },
  {
   "cell_type": "code",
   "execution_count": 10,
   "metadata": {
    "collapsed": false
   },
   "outputs": [
    {
     "name": "stdout",
     "output_type": "stream",
     "text": [
      "../data/Donor_Metadata_Enhanced/donor_meta_13RTK.txt\n",
      "../data/Donor_Metadata_Enhanced/donor_meta_13RTJ.txt\n",
      "../data/Donor_Metadata_Enhanced/donor_meta_X638.txt\n",
      "Matrix constructed with 39 samples!\n"
     ]
    }
   ],
   "source": [
    "multi_matrix, point_ID, point_sex, point_age, point_tissue, point_tissue_group = construct_matrix(spec_donors=['13RTK','13RTJ','X638'])"
   ]
  },
  {
   "cell_type": "code",
   "execution_count": 13,
   "metadata": {
    "collapsed": false
   },
   "outputs": [
    {
     "data": {
      "text/plain": [
       "['1',\n",
       " '1',\n",
       " '1',\n",
       " '1',\n",
       " '1',\n",
       " '1',\n",
       " '1',\n",
       " '1',\n",
       " '1',\n",
       " '1',\n",
       " '1',\n",
       " '1',\n",
       " '1',\n",
       " '1',\n",
       " '1',\n",
       " '1',\n",
       " '1',\n",
       " '1',\n",
       " '1',\n",
       " '1',\n",
       " '1',\n",
       " '1',\n",
       " '1',\n",
       " '1',\n",
       " '1',\n",
       " '1',\n",
       " '1',\n",
       " '1',\n",
       " '1',\n",
       " '1',\n",
       " '1',\n",
       " '1',\n",
       " '2',\n",
       " '2',\n",
       " '2',\n",
       " '2',\n",
       " '2',\n",
       " '2',\n",
       " '2']"
      ]
     },
     "execution_count": 13,
     "metadata": {},
     "output_type": "execute_result"
    }
   ],
   "source": [
    "point_sex"
   ]
  },
  {
   "cell_type": "code",
   "execution_count": null,
   "metadata": {
    "collapsed": true
   },
   "outputs": [],
   "source": []
  }
 ],
 "metadata": {
  "kernelspec": {
   "display_name": "Python 2",
   "language": "python",
   "name": "python2"
  },
  "language_info": {
   "codemirror_mode": {
    "name": "ipython",
    "version": 2
   },
   "file_extension": ".py",
   "mimetype": "text/x-python",
   "name": "python",
   "nbconvert_exporter": "python",
   "pygments_lexer": "ipython2",
   "version": "2.7.10"
  }
 },
 "nbformat": 4,
 "nbformat_minor": 0
}

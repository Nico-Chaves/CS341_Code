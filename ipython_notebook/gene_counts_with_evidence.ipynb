{
 "cells": [
  {
   "cell_type": "code",
   "execution_count": 1,
   "metadata": {
    "collapsed": false
   },
   "outputs": [
    {
     "name": "stderr",
     "output_type": "stream",
     "text": [
      "/Users/nicochaves/anaconda/lib/python2.7/site-packages/matplotlib/font_manager.py:273: UserWarning: Matplotlib is building the font cache using fc-list. This may take a moment.\n",
      "  warnings.warn('Matplotlib is building the font cache using fc-list. This may take a moment.')\n"
     ]
    }
   ],
   "source": [
    "%matplotlib inline\n",
    "from goatools.associations import read_ncbi_gene2go\n",
    "import matplotlib.pyplot as plt\n",
    "import numpy as np"
   ]
  },
  {
   "cell_type": "code",
   "execution_count": 2,
   "metadata": {
    "collapsed": true
   },
   "outputs": [],
   "source": [
    "gene2go_file_path = '../data/gene2go.txt' # If file doesn't exist, then run gene2go = download_ncbi_associations()\n",
    "rpkm_file_path = '../../CS341_Data/transcript_rpkm_in_go_nonzero_exp.txt'\n",
    "gene_count_file_path = '../data/supp_GO_term_gene_counts.txt'\n",
    "biomart_file_path = '../data/biomart_ensembl_to_entrez.txt'"
   ]
  },
  {
   "cell_type": "code",
   "execution_count": 32,
   "metadata": {
    "collapsed": true
   },
   "outputs": [],
   "source": [
    "exp_ev_codes = ['EXP', 'IDA', 'IPI', 'IMP', 'IGI', 'IEP']\n",
    "comp_an_ev_codes = ['ISS', 'ISO', 'ISA', 'ISM', 'IGC', 'IBA', 'IBD', 'IKR', 'IRD', 'RCA']\n",
    "auth_stmt_ev_codes = ['TAS', 'NAS']\n",
    "cur_ev_codes = ['IC', 'ND']\n",
    "elec_ev_codes = ['IEA']"
   ]
  },
  {
   "cell_type": "code",
   "execution_count": 13,
   "metadata": {
    "collapsed": false
   },
   "outputs": [],
   "source": [
    "def print_histogram(GO_terms, title, bin_range=range(0,110,10)):\n",
    "    counts = [len(genes) for (GO_id, genes) in GO_terms]\n",
    "    plt.hist(counts, bins=bin_range)\n",
    "    plt.title(title)\n",
    "    plt.xlabel(\"# of Genes\")\n",
    "    plt.ylabel(\"# of GO terms\")\n",
    "    plt.show()"
   ]
  },
  {
   "cell_type": "code",
   "execution_count": 4,
   "metadata": {
    "collapsed": true
   },
   "outputs": [],
   "source": [
    "def map_entrez_to_ensembl(path):\n",
    "    ent_to_ens = {}\n",
    "    f = open(path)\n",
    "    for line in f:\n",
    "        vals = line.split('\\t')\n",
    "        ens_gene_id = vals[0]\n",
    "        entrez_id = vals[2]\n",
    "        ent_to_ens[entrez_id] = ens_gene_id\n",
    "\n",
    "    f.close()\n",
    "    return ent_to_ens"
   ]
  },
  {
   "cell_type": "code",
   "execution_count": 89,
   "metadata": {
    "collapsed": false
   },
   "outputs": [],
   "source": [
    "def get_go_terms(biomart_fpath, gene2go_fpath, gene_count_fpath, ev_codes=None):\n",
    "    \n",
    "    entrez_to_ensembl = map_entrez_to_ensembl(biomart_fpath)\n",
    "\n",
    "    # taxids=[9606] means select only human.\n",
    "    if ev_codes:\n",
    "        go_to_entrez_ids_human = read_ncbi_gene2go(gene2go_fpath, taxids=[9606], go2geneids=True, evidence_set=ev_codes)\n",
    "    else:\n",
    "        go_to_entrez_ids_human = read_ncbi_gene2go(gene2go_fpath, taxids=[9606], go2geneids=True)\n",
    "    print(\"{N} GO terms associated with human NCBI Entrez GeneIDs\".format(N=len(go_to_entrez_ids_human)))\n",
    "\n",
    "    # Get the GO terms\n",
    "    gene_cnt_file = open(gene_count_fpath)\n",
    "    GO_ids = []\n",
    "    atLine = 0\n",
    "    skipLines = 1\n",
    "    for line in gene_cnt_file:\n",
    "        if atLine < skipLines:\n",
    "            atLine += 1\n",
    "            continue\n",
    "        GO_id = line.split('\\t')[0]\n",
    "        entrez_ids = go_to_entrez_ids_human[GO_id]\n",
    "        #print '# of Entrez IDs associated with ', GO_id, ' = ', len(entrez_ids)\n",
    "        ensembl_ids = set()\n",
    "        for ent_id in entrez_ids:\n",
    "            if str(ent_id) in entrez_to_ensembl:\n",
    "                ensembl_ids.add(entrez_to_ensembl[str(ent_id)])\n",
    "        GO_ids.append((GO_id, list(ensembl_ids)))\n",
    "        #print '# of Ensembl IDs associated with ', GO_id, ' = ', len(ensembl_ids)\n",
    "\n",
    "    return GO_ids\n"
   ]
  },
  {
   "cell_type": "markdown",
   "metadata": {},
   "source": [
    "## All annotations (no filter by evidence)"
   ]
  },
  {
   "cell_type": "code",
   "execution_count": 90,
   "metadata": {
    "collapsed": false,
    "scrolled": true
   },
   "outputs": [
    {
     "name": "stdout",
     "output_type": "stream",
     "text": [
      "16439 GO terms associated with human NCBI Entrez GeneIDs\n",
      "6172\n"
     ]
    },
    {
     "data": {
      "image/png": "[encoded data removed]",
      "text/plain": [
       "<matplotlib.figure.Figure at 0x10a213410>"
      ]
     },
     "metadata": {},
     "output_type": "display_data"
    }
   ],
   "source": [
    "# Get all GO terms from the supplementary file, along with their corresponding ensemble gene IDs.\n",
    "all_GO_terms = get_go_terms(biomart_file_path, gene2go_file_path, gene_count_file_path)\n",
    "print len(all_GO_terms)\n",
    "print_histogram(all_GO_terms, 'No Evidence Filter', bin_range=range(0,50,5))"
   ]
  },
  {
   "cell_type": "markdown",
   "metadata": {},
   "source": [
    "## Only experimental evidence-based annotations."
   ]
  },
  {
   "cell_type": "code",
   "execution_count": 91,
   "metadata": {
    "collapsed": false
   },
   "outputs": [
    {
     "name": "stdout",
     "output_type": "stream",
     "text": [
      "10176 GO terms associated with human NCBI Entrez GeneIDs\n",
      "6172\n"
     ]
    },
    {
     "data": {
      "image/png": "[encoded data removed]",
      "text/plain": [
       "<matplotlib.figure.Figure at 0x10aa70f10>"
      ]
     },
     "metadata": {},
     "output_type": "display_data"
    }
   ],
   "source": [
    "evidence_GO_terms = get_go_terms(biomart_file_path, gene2go_file_path, gene_count_file_path, ev_codes=exp_ev_codes)\n",
    "print len(evidence_GO_terms)\n",
    "print_histogram(evidence_GO_terms, 'Exp Evidence Only', bin_range=range(0,20,1))"
   ]
  },
  {
   "cell_type": "markdown",
   "metadata": {},
   "source": [
    "## Experimental Evidence + Computational Analysis annotations."
   ]
  },
  {
   "cell_type": "code",
   "execution_count": 92,
   "metadata": {
    "collapsed": false,
    "scrolled": true
   },
   "outputs": [
    {
     "name": "stdout",
     "output_type": "stream",
     "text": [
      "12880 GO terms associated with human NCBI Entrez GeneIDs\n",
      "6172\n"
     ]
    },
    {
     "data": {
      "image/png": "[encoded data removed]",
      "text/plain": [
       "<matplotlib.figure.Figure at 0x10a522c10>"
      ]
     },
     "metadata": {},
     "output_type": "display_data"
    }
   ],
   "source": [
    "ev_compan_GO_terms = get_go_terms(biomart_file_path, gene2go_file_path, gene_count_file_path, ev_codes=exp_ev_codes + comp_an_ev_codes)\n",
    "print len(ev_compan_GO_terms)\n",
    "print_histogram(ev_compan_GO_terms, 'Exp + CompAn', bin_range=range(0,20,1))"
   ]
  },
  {
   "cell_type": "markdown",
   "metadata": {},
   "source": [
    "## Experimental Evidence + Computational Analysis + Author Statement annotations."
   ]
  },
  {
   "cell_type": "code",
   "execution_count": 93,
   "metadata": {
    "collapsed": false
   },
   "outputs": [
    {
     "name": "stdout",
     "output_type": "stream",
     "text": [
      "13884 GO terms associated with human NCBI Entrez GeneIDs\n",
      "6172\n"
     ]
    },
    {
     "data": {
      "image/png": "[encoded data removed]",
      "text/plain": [
       "<matplotlib.figure.Figure at 0x10a213a10>"
      ]
     },
     "metadata": {},
     "output_type": "display_data"
    }
   ],
   "source": [
    "codes = exp_ev_codes + comp_an_ev_codes + auth_stmt_ev_codes\n",
    "GO_terms_3 = get_go_terms(biomart_file_path, gene2go_file_path, gene_count_file_path, ev_codes=codes)\n",
    "print len(GO_terms_3)\n",
    "print_histogram(GO_terms_3, 'Exp + CompAn + Auth', bin_range=range(0,20,1))"
   ]
  },
  {
   "cell_type": "markdown",
   "metadata": {},
   "source": [
    "## Experimental Evidence + Computational Analysis + Author Statement + Curatorial annotations."
   ]
  },
  {
   "cell_type": "code",
   "execution_count": 94,
   "metadata": {
    "collapsed": false
   },
   "outputs": [
    {
     "name": "stdout",
     "output_type": "stream",
     "text": [
      "13944 GO terms associated with human NCBI Entrez GeneIDs\n",
      "6172\n"
     ]
    },
    {
     "data": {
      "image/png": "[encoded data removed]",
      "text/plain": [
       "<matplotlib.figure.Figure at 0x109f26990>"
      ]
     },
     "metadata": {},
     "output_type": "display_data"
    }
   ],
   "source": [
    "codes = exp_ev_codes + comp_an_ev_codes + auth_stmt_ev_codes + cur_ev_codes\n",
    "GO_terms_4 = get_go_terms(biomart_file_path, gene2go_file_path, gene_count_file_path, ev_codes=codes)\n",
    "print len(GO_terms_4)\n",
    "print_histogram(GO_terms_4, 'Exp + CompAn + Auth + Cur', bin_range=range(0,20,1))"
   ]
  },
  {
   "cell_type": "markdown",
   "metadata": {},
   "source": [
    "## Experimental Evidence + Computational Analysis + Author Statement + Curatorial + Electronic annotations."
   ]
  },
  {
   "cell_type": "code",
   "execution_count": 95,
   "metadata": {
    "collapsed": false
   },
   "outputs": [
    {
     "name": "stdout",
     "output_type": "stream",
     "text": [
      "16439 GO terms associated with human NCBI Entrez GeneIDs\n",
      "6172\n"
     ]
    },
    {
     "data": {
      "image/png": "[encoded data removed]",
      "text/plain": [
       "<matplotlib.figure.Figure at 0x10e8b9d90>"
      ]
     },
     "metadata": {},
     "output_type": "display_data"
    },
    {
     "data": {
      "image/png": "[encoded data removed]",
      "text/plain": [
       "<matplotlib.figure.Figure at 0x10e920a90>"
      ]
     },
     "metadata": {},
     "output_type": "display_data"
    }
   ],
   "source": [
    "codes = exp_ev_codes + comp_an_ev_codes + auth_stmt_ev_codes + cur_ev_codes + elec_ev_codes\n",
    "GO_terms_5 = get_go_terms(biomart_file_path, gene2go_file_path, gene_count_file_path, ev_codes=codes)\n",
    "print len(GO_terms_5)\n",
    "print_histogram(GO_terms_5, 'Exp + CompAn + Auth + Cur + Elec', bin_range=range(0,20,1))\n",
    "print_histogram(all_GO_terms, 'No Evidence Filter', bin_range=range(0,20,1))"
   ]
  },
  {
   "cell_type": "code",
   "execution_count": null,
   "metadata": {
    "collapsed": true
   },
   "outputs": [],
   "source": []
  },
  {
   "cell_type": "markdown",
   "metadata": {},
   "source": [
    "## Using Descendants in Gene Ontology"
   ]
  },
  {
   "cell_type": "code",
   "execution_count": 42,
   "metadata": {
    "collapsed": false
   },
   "outputs": [
    {
     "name": "stderr",
     "output_type": "stream",
     "text": [
      "load obo file ../data/go-basic.obo\n"
     ]
    },
    {
     "name": "stdout",
     "output_type": "stream",
     "text": [
      "../data/go-basic.obo: format-version(1.2) data-version(releases/2016-04-27)\n"
     ]
    },
    {
     "name": "stderr",
     "output_type": "stream",
     "text": [
      "46518 nodes imported\n"
     ]
    }
   ],
   "source": [
    "from goatools.go_search import GoSearch\n",
    "obo_file = '../data/go-basic.obo'\n",
    "go_to_entrez_ids_human = read_ncbi_gene2go(gene2go_file_path, taxids=[9606], go2geneids=True)\n",
    "srchhelp = GoSearch(obo_file, go2items=go_to_entrez_ids_human)\n",
    "    \n",
    "def create_black_list_genes(srchhelp,entrez_to_ensembl,GO_PROCESS_ID):\n",
    "    gos_all = add_all_children(srchhelp,[GO_PROCESS_ID])# get all descendents\n",
    "    num_descendents = len(gos_all) - 1\n",
    "    parent_set = get_parent_ids(srchhelp,GO_PROCESS_ID) # get direct parents\n",
    "    num_parents = len(parent_set)\n",
    "    gos_all = gos_all.union(parent_set) \n",
    "    # get all genes in this list\n",
    "    entrez_ids = srchhelp.get_items(gos_all)\n",
    "    num_genes = len(entrez_ids)\n",
    "    print GO_PROCESS_ID\n",
    "    print '\\t# of desendents:', str(num_descendents),'\\t# of parents:',str(num_parents)\n",
    "    # convert geneids to ensemble IDs\n",
    "    ensembl_ids = []\n",
    "    for ent_id in entrez_ids:\n",
    "        ensembl_ids.append(entrez_to_ensembl[str(ent_id)])\n",
    "    # print(\"{N} GO terms associated with human NCBI Entrez GeneIDs\".format(N=len(go_to_entrez_ids_human)))\n",
    "    #return ensembl_ids\n",
    "    print '\\t# of genes before conversion:', str(num_genes), '\\t# of genes after conversion:',str(len(ensembl_ids))\n",
    "    return ensembl_ids"
   ]
  },
  {
   "cell_type": "markdown",
   "metadata": {},
   "source": [
    "## Get the Descendants"
   ]
  },
  {
   "cell_type": "code",
   "execution_count": 49,
   "metadata": {
    "collapsed": false
   },
   "outputs": [
    {
     "name": "stdout",
     "output_type": "stream",
     "text": [
      "set(['GO:0001702', 'GO:0001703', 'GO:0010004', 'GO:0007369'])\n"
     ]
    }
   ],
   "source": [
    "print srchhelp.add_children_gos(gos=['GO:0007369'])"
   ]
  },
  {
   "cell_type": "code",
   "execution_count": null,
   "metadata": {
    "collapsed": true
   },
   "outputs": [],
   "source": [
    "black_list_genes = create_black_list_genes(srchhelp,entrez_to_ensembl,GO_PROCESS_ID)\n",
    "print black_list_genes"
   ]
  },
  {
   "cell_type": "code",
   "execution_count": 41,
   "metadata": {
    "collapsed": false
   },
   "outputs": [],
   "source": [
    "from goatools import obo_parser\n",
    "\n",
    "reader = obo_parser.OBOReader(obo_file='../data/go-basic.obo')"
   ]
  },
  {
   "cell_type": "code",
   "execution_count": 116,
   "metadata": {
    "collapsed": false
   },
   "outputs": [],
   "source": [
    "class GOterm:\n",
    "    def __init__(self, id):\n",
    "        self.id = id\n",
    "        self.descendants_ids = []\n",
    "        self.genes = set()\n",
    "        \n",
    "    def add_descendants(self, srchhelp):\n",
    "        self.descendants_ids = list(srchhelp.add_children_gos(gos=[self.id]))\n",
    "\n",
    "\n",
    "def get_go_terms_descendants(biomart_fpath, gene2go_fpath, gene_count_fpath, srchhelp, ev_codes=None):\n",
    "    \n",
    "    entrez_to_ensembl = map_entrez_to_ensembl(biomart_fpath)\n",
    "\n",
    "    # taxids=[9606] means select only human.\n",
    "    if ev_codes:\n",
    "        go_to_entrez_ids_human = read_ncbi_gene2go(gene2go_fpath, taxids=[9606], go2geneids=True, evidence_set=ev_codes)\n",
    "    else:\n",
    "        go_to_entrez_ids_human = read_ncbi_gene2go(gene2go_fpath, taxids=[9606], go2geneids=True)\n",
    "    print(\"{N} GO terms associated with human NCBI Entrez GeneIDs\".format(N=len(go_to_entrez_ids_human)))\n",
    "\n",
    "    # Get the GO terms\n",
    "    gene_cnt_file = open(gene_count_fpath)\n",
    "    GO_terms = []\n",
    "    atLine = 0\n",
    "    skipLines = 1\n",
    "    for line in gene_cnt_file:\n",
    "        if atLine < skipLines:\n",
    "            atLine += 1\n",
    "            continue\n",
    "        GO_id = line.split('\\t')[0]\n",
    "        term = GOterm(GO_id)\n",
    "        term.add_descendants(srchhelp)\n",
    "\n",
    "        for id in [GO_id] + term.descendants_ids:\n",
    "            entrez_ids = go_to_entrez_ids_human[id]\n",
    "            for ent_id in entrez_ids:\n",
    "                if str(ent_id) in entrez_to_ensembl:\n",
    "                    ens_id = entrez_to_ensembl[str(ent_id)]\n",
    "                    term.genes.add(ens_id)\n",
    "        GO_terms.append(term)\n",
    "      \n",
    "    return GO_terms"
   ]
  },
  {
   "cell_type": "code",
   "execution_count": 115,
   "metadata": {
    "collapsed": false
   },
   "outputs": [
    {
     "name": "stdout",
     "output_type": "stream",
     "text": [
      "1128\n"
     ]
    }
   ],
   "source": []
  },
  {
   "cell_type": "code",
   "execution_count": 117,
   "metadata": {
    "collapsed": false
   },
   "outputs": [],
   "source": [
    "def print_histogram2(GO_terms, title, bin_range=range(0,110,10)):\n",
    "    counts = [len(term.genes) for term in GO_terms]\n",
    "    plt.hist(counts, bins=bin_range)\n",
    "    plt.title(title)\n",
    "    plt.xlabel(\"# of Genes\")\n",
    "    plt.ylabel(\"# of GO terms\")\n",
    "    plt.show()"
   ]
  },
  {
   "cell_type": "markdown",
   "metadata": {},
   "source": [
    "## GO descendants, No evidence filters"
   ]
  },
  {
   "cell_type": "code",
   "execution_count": 118,
   "metadata": {
    "collapsed": false
   },
   "outputs": [
    {
     "name": "stdout",
     "output_type": "stream",
     "text": [
      "a\n",
      "16439 GO terms associated with human NCBI Entrez GeneIDs\n",
      "b\n"
     ]
    },
    {
     "data": {
      "image/png": "[encoded data removed]",
      "text/plain": [
       "<matplotlib.figure.Figure at 0x10e8064d0>"
      ]
     },
     "metadata": {},
     "output_type": "display_data"
    }
   ],
   "source": [
    "GO_terms = get_go_terms_descendants(biomart_file_path, gene2go_file_path, gene_count_file_path, srchhelp)\n",
    "print_histogram2(GO_terms, 'No Evidence Filter', bin_range=range(0,50,5))"
   ]
  },
  {
   "cell_type": "markdown",
   "metadata": {},
   "source": [
    "## GO descendants, Exp Evidence Only"
   ]
  },
  {
   "cell_type": "code",
   "execution_count": 122,
   "metadata": {
    "collapsed": false
   },
   "outputs": [
    {
     "name": "stdout",
     "output_type": "stream",
     "text": [
      "10176 GO terms associated with human NCBI Entrez GeneIDs\n"
     ]
    },
    {
     "data": {
      "image/png": "[encoded data removed]",
      "text/plain": [
       "<matplotlib.figure.Figure at 0x10e891950>"
      ]
     },
     "metadata": {},
     "output_type": "display_data"
    },
    {
     "data": {
      "image/png": "[encoded data removed]",
      "text/plain": [
       "<matplotlib.figure.Figure at 0x10a6bec90>"
      ]
     },
     "metadata": {},
     "output_type": "display_data"
    }
   ],
   "source": [
    "GO_terms_exp = get_go_terms_descendants(biomart_file_path, gene2go_file_path, gene_count_file_path, srchhelp, ev_codes=exp_ev_codes)\n",
    "print_histogram2(GO_terms_exp, 'With Descendants, Exp Evidence Only', bin_range=range(0,20,1))\n",
    "print_histogram(evidence_GO_terms, 'No Descendants, Exp Evidence Only', bin_range=range(0,20,1))"
   ]
  },
  {
   "cell_type": "code",
   "execution_count": null,
   "metadata": {
    "collapsed": true
   },
   "outputs": [],
   "source": []
  }
 ],
 "metadata": {
  "kernelspec": {
   "display_name": "Python 2",
   "language": "python",
   "name": "python2"
  },
  "language_info": {
   "codemirror_mode": {
    "name": "ipython",
    "version": 2
   },
   "file_extension": ".py",
   "mimetype": "text/x-python",
   "name": "python",
   "nbconvert_exporter": "python",
   "pygments_lexer": "ipython2",
   "version": "2.7.11"
  }
 },
 "nbformat": 4,
 "nbformat_minor": 0
}

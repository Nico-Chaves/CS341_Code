# -*- coding: utf-8 -*-
"""
Created on Mon Apr 11 21:19:15 2016

This file does this following:

1. Counts tissue types in given list of donors
2. Finds most common tissues, and records which index those tissues are for
    each donor
3. Creates matrix out of common tissues from all donors
4. Performs various dimensionality reduction techniques and plots them

@author: noamweinberger
"""

from collections import Counter
import numpy as np
from sklearn import decomposition
from sklearn import manifold
import matplotlib.pyplot as plt
import pandas as pd

# desired donors
donor_ids = ['1117F','111CU','111FC','111VG','111YS','1122O','1128S','113IC',
             '113JC','117XS','117YW','117YX','1192W','1192X','11DXW','11DXX',
             '11DXY','11DXZ','11DYG','11DZ1','11EI6','11EM3','11EMC','11EQ8',
             '11EQ9','11GS4','11GSO','11GSP','11H98','11I78','11LCK','11NSD',
             '11NUK']
tissue_counts = Counter()
n_samples = {}

# count to find most commonly sampled tissue types
for id in donor_ids:
    metafilename = 'Data/donor_meta_'+id+'.txt'
    metafile = open(metafilename)
    tissues = []
    for line in metafile:
        # look for tissue type listed in meta file        
        tissues.append(line.split('\t')[1])
        # keep track of total number of samples for later        
        n_samples[id] = n_samples.get(id,0) + 1
    tissue_counts = tissue_counts + Counter(tissues)
    metafile.close()

# more controls whether 5 or 10 tissues are considered
# blood controls whether whole blood can be included
more = False
blood = False
if more:
    # most common tissues across given donors
    if not blood:
        tissue_counts['Whole Blood\n'] = 0
    top_tissues = [key for key,value in tissue_counts.most_common(10)]
    
    # for color labeling
    color_code = {  top_tissues[0]:'blue',
                    top_tissues[1]:'green',
                    top_tissues[2]:'red',
                    top_tissues[3]:'cyan',
                    top_tissues[4]:'purple',
                    top_tissues[5]:'yellow',
                    top_tissues[6]:'black',
                    top_tissues[7]:'white',
                    top_tissues[8]:'orange',
                    top_tissues[9]:'gray'
                    }
else:
    # most common tissues across given donors
    if not blood:
        tissue_counts['Whole Blood\n'] = 0
    top_tissues = [key for key,value in tissue_counts.most_common(5)]
    
    # for color labeling
    color_code = {  top_tissues[0]:'blue',
                    top_tissues[1]:'green',
                    top_tissues[2]:'red',
                    top_tissues[3]:'cyan',
                    top_tissues[4]:'purple'
                    }

# initialize (this column will be removed later)
multi_matrix = np.zeros((10000,1))
colors = []
tissue_labels = []
# remove desired columns from donor matrices and put in multi-matrix
for id in donor_ids:
    metafilename = 'Data/donor_meta_'+id+'.txt'
    datafilename = 'Data/donor_'+id+'.txt'
    metafile = open(metafilename)
    # indices of columns with data for common tissue    
    columns = []
    column = 0
    for line in metafile:
        tissue = line.split('\t')[1]
        # find index of columns with top tissue types by looking at metafile        
        if tissue in top_tissues:
            columns.append(column)
            colors.append(color_code[tissue])
            tissue_labels.append(tissue)
        column = column + 1
    metafile.close()
    
    donor_matrix = np.zeros((10000,len(columns)))
    row = 0
    donorfile = open(datafilename)
    for line in donorfile:
        # from file, take common tissue columns and put in donor matrix
        values = [line.split('\t')[ind] for ind in columns]
        donor_matrix[row,:] = values
        row = row+1
    # concatenate donor matrices
    multi_matrix = np.concatenate((multi_matrix,donor_matrix),axis=1)
multi_matrix = np.delete(multi_matrix,0,1)

#%% Curves
"""
if not more:
    mm = pd.DataFrame(multi_matrix.transpose())
    mm['label']=tissue_labels
    plt.figure(figsize=(10,10))
    pd.tools.plotting.andrews_curves(mm, 'label')
"""
#%% PCA
pca = decomposition.PCA(n_components=2)
multi_tissue_pca = pca.fit_transform(multi_matrix.transpose())
fig,axes = plt.subplots(nrows=3,ncols=1,figsize=(7,15))

df = pd.DataFrame(multi_tissue_pca,columns=['PCA1','PCA2'],index=tissue_labels)
for tissue, grp in df.groupby(df.index):
    axes[0].scatter(grp['PCA1'],grp['PCA2'],label=tissue[0:-1],
    color=color_code[tissue])
axes[0].legend(loc='best',fancybox=True,scatterpoints=1,fontsize=8,ncol=1+more)
axes[0].set_title('PCA')
#%% MDS
mds = manifold.MDS(n_components=2)
multi_tissue_mds = mds.fit_transform(multi_matrix.transpose())

df = pd.DataFrame(multi_tissue_mds,columns=['MDS1','MDS2'],index=tissue_labels)
for tissue, grp in df.groupby(df.index):
    axes[1].scatter(grp['MDS1'],grp['MDS2'],label=tissue[0:-1],
    color=color_code[tissue])
axes[1].set_title('MDS')
#%% tSNE
tsne = manifold.TSNE(n_components=2)
multi_tissue_tsne = tsne.fit_transform(multi_matrix.transpose())

df = pd.DataFrame(multi_tissue_tsne,columns=['TSNE1','TSNE2'],index=tissue_labels)
for tissue, grp in df.groupby(df.index):
    axes[2].scatter(grp['TSNE1'],grp['TSNE2'],label=tissue[0:-1],
    color=color_code[tissue])
axes[2].set_title('tSNE')
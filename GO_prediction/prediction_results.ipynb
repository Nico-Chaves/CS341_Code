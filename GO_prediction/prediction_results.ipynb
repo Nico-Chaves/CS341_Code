{
 "cells": [
  {
   "cell_type": "code",
   "execution_count": 4,
   "metadata": {
    "collapsed": true
   },
   "outputs": [],
   "source": [
    "import numpy as np\n",
    "from sklearn import linear_model\n",
    "from sklearn.svm import SVC\n",
    "import GO_utils\n",
    "import utils"
   ]
  },
  {
   "cell_type": "markdown",
   "metadata": {},
   "source": [
    "## Specify File Paths"
   ]
  },
  {
   "cell_type": "code",
   "execution_count": 6,
   "metadata": {
    "collapsed": true
   },
   "outputs": [],
   "source": [
    "gene2go_file_path = '../data/gene2go.txt' # If file doesn't exist, then run gene2go = download_ncbi_associations()\n",
    "rpkm_file_path = '../../CS341_Data/transcript_rpkm_in_go_nonzero_exp.txt'\n",
    "gene_count_file_path = '../data/supp_GO_term_gene_counts.txt'\n",
    "biomart_file_path = '../data/biomart_ensembl_to_entrez.txt'  \n",
    "sample_tissue_path = '../data/sampleID_tissue.txt'\n",
    "obo_file_path = '../data/go-basic.obo'"
   ]
  },
  {
   "cell_type": "code",
   "execution_count": null,
   "metadata": {
    "collapsed": true
   },
   "outputs": [],
   "source": [
    "## Get Gene Annotations for all GO terms in Supplementary File (include the GO descendant terms)"
   ]
  },
  {
   "cell_type": "code",
   "execution_count": 7,
   "metadata": {
    "collapsed": false
   },
   "outputs": [
    {
     "name": "stdout",
     "output_type": "stream",
     "text": [
      "16439 GO terms associated with human NCBI Entrez GeneIDs\n"
     ]
    },
    {
     "name": "stderr",
     "output_type": "stream",
     "text": [
      "load obo file ../data/go-basic.obo\n"
     ]
    },
    {
     "name": "stdout",
     "output_type": "stream",
     "text": [
      "../data/go-basic.obo: format-version(1.2) data-version(releases/2016-04-27)\n"
     ]
    },
    {
     "name": "stderr",
     "output_type": "stream",
     "text": [
      "46518 nodes imported\n"
     ]
    },
    {
     "name": "stdout",
     "output_type": "stream",
     "text": [
      "Top GO terms\n",
      "GO:0007166   2018\n",
      "GO:0007186   1128\n",
      "GO:0051960   741\n",
      "GO:0050767   659\n",
      "GO:0007167   652\n",
      "GO:0045664   549\n",
      "GO:0007169   483\n",
      "GO:0019221   449\n",
      "GO:0051962   432\n",
      "GO:0002694   425\n"
     ]
    }
   ],
   "source": [
    "GO_terms = GO_utils.get_go_terms_descendants(biomart_file_path, gene2go_file_path, gene_count_file_path, obo_file_path, ev_codes=None)\n",
    "GO_terms = GO_utils.sort_go_terms(GO_terms)\n",
    "print 'Top GO terms'\n",
    "for t in GO_terms[0:10]:\n",
    "    print t.id, ' ', len(t.genes)\n",
    "term = GO_terms[0]\n",
    "ensembl_ids = term.genes"
   ]
  },
  {
   "cell_type": "markdown",
   "metadata": {},
   "source": [
    "## 1st Pass Through Dataset: Obtain positive training examples"
   ]
  },
  {
   "cell_type": "code",
   "execution_count": 10,
   "metadata": {
    "collapsed": false
   },
   "outputs": [
    {
     "name": "stdout",
     "output_type": "stream",
     "text": [
      "After pass 1 (inserting positive examples), gene feature matrix has dimension:  (1931, 8555)\n",
      "num pos:  1931\n",
      "num neg:  1931\n"
     ]
    }
   ],
   "source": [
    "NUM_FEATURES = 8555\n",
    "gene_features, positive_example_rows, gene_ids_ordered, num_transcripts = \\\n",
    "        GO_utils.get_positive_examples(rpkm_file_path, ensembl_ids, NUM_FEATURES)\n",
    "\n",
    "print 'After pass 1 (inserting positive examples), gene feature matrix has dimension: ', gene_features.shape\n",
    "num_positive_examples = len(positive_example_rows)\n",
    "num_negative_examples = num_positive_examples\n",
    "num_examples = num_positive_examples + num_negative_examples\n",
    "print 'num pos: ', num_positive_examples\n",
    "print 'num neg: ', num_negative_examples"
   ]
  },
  {
   "cell_type": "markdown",
   "metadata": {},
   "source": [
    "## 2nd Pass through dataset: Obtain an equal number of negative training exmaples"
   ]
  },
  {
   "cell_type": "code",
   "execution_count": 11,
   "metadata": {
    "collapsed": false
   },
   "outputs": [
    {
     "name": "stdout",
     "output_type": "stream",
     "text": [
      "After pass 2 (inserting negative examples), gene feature matrix has dimension:  (3862, 8555)\n"
     ]
    }
   ],
   "source": [
    "neg_rows = utils.rand_sample_exclude(range(0, num_transcripts), num_negative_examples, exclude=positive_example_rows)\n",
    "\n",
    "gene_features_neg, gene_ids_ordered_neg = \\\n",
    "    GO_utils.get_negative_examples(rpkm_file_path, neg_rows, NUM_FEATURES)\n",
    "gene_features = np.append(gene_features, gene_features_neg, axis=0)\n",
    "gene_ids_ordered += gene_ids_ordered_neg\n",
    "\n",
    "print 'After pass 2 (inserting negative examples), gene feature matrix has dimension: ', gene_features.shape"
   ]
  },
  {
   "cell_type": "markdown",
   "metadata": {},
   "source": [
    "## Add Binary Labels to the Data and split into train/test"
   ]
  },
  {
   "cell_type": "code",
   "execution_count": 13,
   "metadata": {
    "collapsed": false
   },
   "outputs": [
    {
     "name": "stdout",
     "output_type": "stream",
     "text": [
      "num examples:  3862\n",
      "Dimensionality of training set:  (2704, 8555)\n",
      "Dimensionality of test set:  (1158, 8555)\n",
      "Obtained training & testing data\n"
     ]
    }
   ],
   "source": [
    "# Vector of labels for each example\n",
    "labels = num_positive_examples * [1] + num_negative_examples * [0]\n",
    "\n",
    "train, test = utils.split_data(gene_features, labels, gene_ids_ordered, train_set_size=0.7)\n",
    "print 'Obtained training & testing data'"
   ]
  },
  {
   "cell_type": "markdown",
   "metadata": {},
   "source": [
    "## Evaluate Various Models"
   ]
  },
  {
   "cell_type": "markdown",
   "metadata": {},
   "source": [
    "## Logistic Regression With 10-Fold CV, L2 Norm"
   ]
  },
  {
   "cell_type": "code",
   "execution_count": 15,
   "metadata": {
    "collapsed": false
   },
   "outputs": [
    {
     "name": "stdout",
     "output_type": "stream",
     "text": [
      "--------------------\n",
      "Cross-Validated Logistic Regression\n",
      "--------------------\n",
      "Root Mean Square Error:  0.607239001981\n",
      "ROC AUC Score:  0.631123970887\n",
      "False positive rate:  0.145077720207\n",
      "False negative rate:  0.22366148532\n",
      "Norm: l2, # of Folds: 10\n"
     ]
    }
   ],
   "source": [
    "num_folds = 10   # number of folds to use for cross-validation\n",
    "loss_function = 'l2'  # Loss function to use. Must be either 'l1' or 'l2'\n",
    "logreg_cv_L2 = linear_model.LogisticRegressionCV(cv=num_folds, penalty=loss_function)\n",
    "logreg_cv_L2.fit(train.gene_features, train.labels)\n",
    "pred_lr_cv_L2 = logreg_cv_L2.predict(test.gene_features)\n",
    "utils.print_prediction_results('Cross-Validated Logistic Regression', test.labels, pred_lr_cv_L2,\n",
    "                               other_info='Norm: ' + loss_function + ', # of Folds: ' + str(num_folds))"
   ]
  },
  {
   "cell_type": "markdown",
   "metadata": {},
   "source": [
    "## Logistic Regression With 3-Fold CV, L1 Norm"
   ]
  },
  {
   "cell_type": "code",
   "execution_count": null,
   "metadata": {
    "collapsed": true
   },
   "outputs": [],
   "source": [
    "num_folds = 3   # number of folds to use for cross-validation\n",
    "loss_function = 'l1'  # Loss function to use. Must be either 'l1' or 'l2'\n",
    "logreg_cv_L1 = linear_model.LogisticRegressionCV(cv=num_folds, penalty=loss_function, solver='liblinear')\n",
    "logreg_cv_L1.fit(train.gene_features, train.labels)\n",
    "pred_lr_cv_L1 = logreg_cv_L1.predict(test.gene_features)\n",
    "print_prediction_results('Cross-Validated Logistic Regression', test.labels, pred_lr_cv_L1, \n",
    "                         other_info='Norm: ' + loss_function + ', # of Folds: ' + str(num_folds))"
   ]
  },
  {
   "cell_type": "markdown",
   "metadata": {},
   "source": [
    "## SVM"
   ]
  },
  {
   "cell_type": "code",
   "execution_count": null,
   "metadata": {
    "collapsed": true
   },
   "outputs": [],
   "source": [
    "from sklearn.grid_search import GridSearchCV\n",
    "\n",
    "# Split training data into train and dev\n",
    "#train_cv , dev = utils.split_data(train.gene_features, train.labels, train.gene_ids_ordered, train_set_size=0.7)\n",
    "\n",
    "svc = SVC(kernel='rbf')\n",
    "Cs = np.logspace(-6, -1, 10)\n",
    "clf = GridSearchCV(estimator=svc, param_grid=dict(C=Cs),n_jobs=-1)    \n",
    "clf.fit(train.gene_features, train.labels)\n",
    "print 'Best score: ', clf.best_score_\n",
    "best_C = clf.best_estimator_.C\n",
    "print 'Best C: ', best_C"
   ]
  },
  {
   "cell_type": "code",
   "execution_count": null,
   "metadata": {
    "collapsed": true
   },
   "outputs": [],
   "source": [
    "clf = SVC(kernel='rbf', C=best_C)\n",
    "clf.fit(train.gene_features, train.labels)\n",
    "pred_svm = clf.predict(test.gene_features)\n",
    "utils.print_prediction_results('SVM', test.labels, pred_svm)"
   ]
  }
 ],
 "metadata": {
  "kernelspec": {
   "display_name": "Python 2",
   "language": "python",
   "name": "python2"
  },
  "language_info": {
   "codemirror_mode": {
    "name": "ipython",
    "version": 2
   },
   "file_extension": ".py",
   "mimetype": "text/x-python",
   "name": "python",
   "nbconvert_exporter": "python",
   "pygments_lexer": "ipython2",
   "version": "2.7.11"
  }
 },
 "nbformat": 4,
 "nbformat_minor": 0
}

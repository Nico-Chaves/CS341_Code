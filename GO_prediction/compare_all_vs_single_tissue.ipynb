{
 "cells": [
  {
   "cell_type": "code",
   "execution_count": 5,
   "metadata": {
    "collapsed": false
   },
   "outputs": [],
   "source": [
    "%matplotlib inline \n",
    "import matplotlib.pyplot as plt\n",
    "import numpy as np\n",
    "import pandas as pd\n",
    "from collections import defaultdict\n",
    "from sklearn import linear_model\n",
    "from sklearn.metrics import roc_auc_score, roc_curve, auc\n",
    "from sklearn.svm import SVC\n",
    "# import GO_utils\n",
    "# import utils\n",
    "from os import listdir\n",
    "from os.path import isfile, join\n",
    "from scipy.stats import cumfreq"
   ]
  },
  {
   "cell_type": "code",
   "execution_count": 6,
   "metadata": {
    "collapsed": true
   },
   "outputs": [],
   "source": [
    "def get_go_terms():\n",
    "    f_name = '../data/GO_terms_final_gene_counts.txt'\n",
    "    GO_counts_file = open(f_name)\n",
    "\n",
    "    terms = []\n",
    "    for (i, line) in enumerate(GO_counts_file):\n",
    "        if i < 2:\n",
    "            continue\n",
    "        term = line.split('\\t')[0]\n",
    "        terms.append(term)\n",
    "    return terms\n",
    "\n",
    "def get_tissue_list(tissue_fpath):\n",
    "    tissue_file = open(tissue_fpath)\n",
    "    for line in tissue_file:\n",
    "        tissues = line.rstrip().split('\\t')\n",
    "        break\n",
    "    return tissues\n",
    "\n",
    "def get_1_tissue_aucs(GO_term, tissue_list):\n",
    "    \"\"\"\n",
    "    This function gets the AUC scores of predicting the gene associations of \n",
    "    |GO_term| where each prediction task only used features from an individual\n",
    "    tissue.\n",
    "    \n",
    "    :param GO_term: The GO term\n",
    "    :param tissue_list: List of tissues that were used for separate prediction\n",
    "    tasks. If len(tissue_list)=53, then we performed 53 separate prediciton\n",
    "    problems, where each prediction problem used a different 1 of the 53 tissues.\n",
    "    :return: A list of AUC scores in the same order as |tissue_list|. The ith element in this\n",
    "    list is the AUC score for predicting this GO term using only tissue i.\n",
    "    \"\"\"\n",
    "    \n",
    "    aucs_1_tissue = []\n",
    "    results_dir = 'results_1_tissue/' + GO_term + '/'\n",
    "    for tissue in tissue_list:\n",
    "        # Get the AUC score when using features from only this tissue\n",
    "        f_name = results_dir + 'logreg_' + tissue + '.txt'\n",
    "        rf = open(f_name)\n",
    "        for (i, line) in enumerate(rf):\n",
    "            if i == 2:\n",
    "                auc_score = float(line.split(' ')[-1])\n",
    "                aucs_1_tissue.append(auc_score)\n",
    "            elif i > 2:\n",
    "                break\n",
    "    return aucs_1_tissue\n",
    "\n",
    "def get_all_1_tissue_aucs(GO_terms, tissue_list):\n",
    "    aucs = np.zeros(shape=(len(GO_terms),len(tissue_list)))  # aucs[i][j] is auc score for using jth tissue features to predict ith GO term\n",
    "    for (i, term) in enumerate(GO_terms):\n",
    "        aucs[i, :] = get_1_tissue_aucs(term, tissue_list)\n",
    "    return aucs\n",
    "\n",
    "#def get_all_feature_aucs():"
   ]
  },
  {
   "cell_type": "code",
   "execution_count": 7,
   "metadata": {
    "collapsed": true
   },
   "outputs": [],
   "source": [
    "def map_GO_to_GTEX():\n",
    "    inputFilename = '../data/GO_terms_final_gene_counts.txt'\n",
    "    GO_list_file = open(inputFilename)\n",
    "    GO_list = np.loadtxt(GO_list_file,skiprows=2,usecols=[0],dtype='S10',delimiter='\\t')\n",
    "    \n",
    "    inputFilename = '../data/Tissue_Name_Mappings.csv'\n",
    "    tissue_data = pd.read_csv(inputFilename,header=None)\n",
    "    map_BTO_to_GTEX = defaultdict(list)\n",
    "\n",
    "    for index,row in tissue_data.iterrows():\n",
    "        GTEX_tissue = row[0]\n",
    "        BTO_tissues = row[1:]\n",
    "        for tissue in BTO_tissues.dropna():\n",
    "            map_BTO_to_GTEX[tissue].append(GTEX_tissue)\n",
    "\n",
    "    inputFilename = '../data/BTO_GO.csv'\n",
    "    BTO_data = pd.read_csv(inputFilename,skiprows=[0])\n",
    "    map_GO_to_GTEX = defaultdict(list)\n",
    "\n",
    "    for index,row in BTO_data.iterrows():\n",
    "        tissue = row[1]\n",
    "        if tissue in map_BTO_to_GTEX:\n",
    "            GO_IDs = row[2:]\n",
    "            for GO_ID in GO_IDs.dropna():\n",
    "                if GO_ID in GO_list:\n",
    "                    map_GO_to_GTEX[GO_ID] = list(set(map_GO_to_GTEX[GO_ID] + map_BTO_to_GTEX[tissue]))\n",
    "\n",
    "    #inputFile.close()\n",
    "    return map_GO_to_GTEX\n",
    "\n",
    "def map_GTEX_to_GO(map_GO_to_GTEX):\n",
    "    GTEX_to_GO = defaultdict(list)\n",
    "    for GO_ID,tissues in map_GO_to_GTEX.items():\n",
    "        for tissue in tissues:\n",
    "            if GO_ID not in GTEX_to_GO[tissue]:\n",
    "                GTEX_to_GO[tissue].append(GO_ID)\n",
    "    return GTEX_to_GO\n",
    "   \n",
    "def map_GTEX_to_cols(dir_path, tissues):\n",
    "    GTEX_to_samples = {}\n",
    "    for tissue in tissues:\n",
    "        cols = []\n",
    "        fpath = dir_path + 'tissue_meta_' + tissue + '.txt'\n",
    "        meta_file = open(fpath)\n",
    "        for (i, line) in enumerate(meta_file):\n",
    "            if i < 1:\n",
    "                continue\n",
    "            else:\n",
    "                cols.append(int(line.split('\\t')[0]))\n",
    "        GTEX_to_samples[tissue] = cols\n",
    "        meta_file.close()\n",
    "    return GTEX_to_samples"
   ]
  },
  {
   "cell_type": "code",
   "execution_count": 8,
   "metadata": {
    "collapsed": true
   },
   "outputs": [],
   "source": [
    "def make_boxplot(vals, labels):\n",
    "    plt.figure(figsize=(18, 6))\n",
    "    plt.margins(0.01)\n",
    "    plt.ylim([0, 1])\n",
    "    ax = plt.gca()\n",
    "    ax.xaxis.grid(which='both')\n",
    "    plt.xticks(range(len(labels)), labels, rotation='vertical')\n",
    "    ax.boxplot(vals, labels=labels, vert=0)\n",
    "    plt.show()"
   ]
  },
  {
   "cell_type": "code",
   "execution_count": 9,
   "metadata": {
    "collapsed": false
   },
   "outputs": [
    {
     "ename": "IOError",
     "evalue": "[Errno 2] No such file or directory: 'results_1_tissue/GO:0051249/logreg_Adipose - Visceral (Omentum).txt'",
     "output_type": "error",
     "traceback": [
      "\u001b[0;31m---------------------------------------------------------------------------\u001b[0m",
      "\u001b[0;31mIOError\u001b[0m                                   Traceback (most recent call last)",
      "\u001b[0;32m<ipython-input-9-6c4fdc430bec>\u001b[0m in \u001b[0;36m<module>\u001b[0;34m()\u001b[0m\n\u001b[1;32m      1\u001b[0m \u001b[0mGO_terms\u001b[0m \u001b[0;34m=\u001b[0m \u001b[0mget_go_terms\u001b[0m\u001b[0;34m(\u001b[0m\u001b[0;34m)\u001b[0m\u001b[0;34m\u001b[0m\u001b[0m\n\u001b[1;32m      2\u001b[0m \u001b[0mall_tissues\u001b[0m \u001b[0;34m=\u001b[0m \u001b[0mget_tissue_list\u001b[0m\u001b[0;34m(\u001b[0m\u001b[0;34m'../data/tissues.txt'\u001b[0m\u001b[0;34m)\u001b[0m\u001b[0;34m\u001b[0m\u001b[0m\n\u001b[0;32m----> 3\u001b[0;31m \u001b[0maucs\u001b[0m \u001b[0;34m=\u001b[0m \u001b[0mget_all_1_tissue_aucs\u001b[0m\u001b[0;34m(\u001b[0m\u001b[0mGO_terms\u001b[0m\u001b[0;34m,\u001b[0m \u001b[0mall_tissues\u001b[0m\u001b[0;34m)\u001b[0m\u001b[0;34m\u001b[0m\u001b[0m\n\u001b[0m",
      "\u001b[0;32m<ipython-input-6-3fe329c6a55f>\u001b[0m in \u001b[0;36mget_all_1_tissue_aucs\u001b[0;34m(GO_terms, tissue_list)\u001b[0m\n\u001b[1;32m     49\u001b[0m     \u001b[0maucs\u001b[0m \u001b[0;34m=\u001b[0m \u001b[0mnp\u001b[0m\u001b[0;34m.\u001b[0m\u001b[0mzeros\u001b[0m\u001b[0;34m(\u001b[0m\u001b[0mshape\u001b[0m\u001b[0;34m=\u001b[0m\u001b[0;34m(\u001b[0m\u001b[0mlen\u001b[0m\u001b[0;34m(\u001b[0m\u001b[0mGO_terms\u001b[0m\u001b[0;34m)\u001b[0m\u001b[0;34m,\u001b[0m\u001b[0mlen\u001b[0m\u001b[0;34m(\u001b[0m\u001b[0mtissue_list\u001b[0m\u001b[0;34m)\u001b[0m\u001b[0;34m)\u001b[0m\u001b[0;34m)\u001b[0m  \u001b[0;31m# aucs[i][j] is auc score for using jth tissue features to predict ith GO term\u001b[0m\u001b[0;34m\u001b[0m\u001b[0m\n\u001b[1;32m     50\u001b[0m     \u001b[0;32mfor\u001b[0m \u001b[0;34m(\u001b[0m\u001b[0mi\u001b[0m\u001b[0;34m,\u001b[0m \u001b[0mterm\u001b[0m\u001b[0;34m)\u001b[0m \u001b[0;32min\u001b[0m \u001b[0menumerate\u001b[0m\u001b[0;34m(\u001b[0m\u001b[0mGO_terms\u001b[0m\u001b[0;34m)\u001b[0m\u001b[0;34m:\u001b[0m\u001b[0;34m\u001b[0m\u001b[0m\n\u001b[0;32m---> 51\u001b[0;31m         \u001b[0maucs\u001b[0m\u001b[0;34m[\u001b[0m\u001b[0mi\u001b[0m\u001b[0;34m,\u001b[0m \u001b[0;34m:\u001b[0m\u001b[0;34m]\u001b[0m \u001b[0;34m=\u001b[0m \u001b[0mget_1_tissue_aucs\u001b[0m\u001b[0;34m(\u001b[0m\u001b[0mterm\u001b[0m\u001b[0;34m,\u001b[0m \u001b[0mtissue_list\u001b[0m\u001b[0;34m)\u001b[0m\u001b[0;34m\u001b[0m\u001b[0m\n\u001b[0m\u001b[1;32m     52\u001b[0m     \u001b[0;32mreturn\u001b[0m \u001b[0maucs\u001b[0m\u001b[0;34m\u001b[0m\u001b[0m\n\u001b[1;32m     53\u001b[0m \u001b[0;34m\u001b[0m\u001b[0m\n",
      "\u001b[0;32m<ipython-input-6-3fe329c6a55f>\u001b[0m in \u001b[0;36mget_1_tissue_aucs\u001b[0;34m(GO_term, tissue_list)\u001b[0m\n\u001b[1;32m     37\u001b[0m         \u001b[0;31m# Get the AUC score when using features from only this tissue\u001b[0m\u001b[0;34m\u001b[0m\u001b[0;34m\u001b[0m\u001b[0m\n\u001b[1;32m     38\u001b[0m         \u001b[0mf_name\u001b[0m \u001b[0;34m=\u001b[0m \u001b[0mresults_dir\u001b[0m \u001b[0;34m+\u001b[0m \u001b[0;34m'logreg_'\u001b[0m \u001b[0;34m+\u001b[0m \u001b[0mtissue\u001b[0m \u001b[0;34m+\u001b[0m \u001b[0;34m'.txt'\u001b[0m\u001b[0;34m\u001b[0m\u001b[0m\n\u001b[0;32m---> 39\u001b[0;31m         \u001b[0mrf\u001b[0m \u001b[0;34m=\u001b[0m \u001b[0mopen\u001b[0m\u001b[0;34m(\u001b[0m\u001b[0mf_name\u001b[0m\u001b[0;34m)\u001b[0m\u001b[0;34m\u001b[0m\u001b[0m\n\u001b[0m\u001b[1;32m     40\u001b[0m         \u001b[0;32mfor\u001b[0m \u001b[0;34m(\u001b[0m\u001b[0mi\u001b[0m\u001b[0;34m,\u001b[0m \u001b[0mline\u001b[0m\u001b[0;34m)\u001b[0m \u001b[0;32min\u001b[0m \u001b[0menumerate\u001b[0m\u001b[0;34m(\u001b[0m\u001b[0mrf\u001b[0m\u001b[0;34m)\u001b[0m\u001b[0;34m:\u001b[0m\u001b[0;34m\u001b[0m\u001b[0m\n\u001b[1;32m     41\u001b[0m             \u001b[0;32mif\u001b[0m \u001b[0mi\u001b[0m \u001b[0;34m==\u001b[0m \u001b[0;36m2\u001b[0m\u001b[0;34m:\u001b[0m\u001b[0;34m\u001b[0m\u001b[0m\n",
      "\u001b[0;31mIOError\u001b[0m: [Errno 2] No such file or directory: 'results_1_tissue/GO:0051249/logreg_Adipose - Visceral (Omentum).txt'"
     ]
    }
   ],
   "source": [
    "GO_terms = get_go_terms()\n",
    "all_tissues = get_tissue_list('../data/tissues.txt')\n",
    "aucs = get_all_1_tissue_aucs(GO_terms, all_tissues)"
   ]
  },
  {
   "cell_type": "code",
   "execution_count": 10,
   "metadata": {
    "collapsed": true
   },
   "outputs": [],
   "source": [
    "GO_to_GTEX = map_GO_to_GTEX()\n",
    "GTEX_to_GO = map_GTEX_to_GO(GO_to_GTEX)"
   ]
  },
  {
   "cell_type": "markdown",
   "metadata": {},
   "source": [
    "Observations: \n",
    "1. Some tissues (such Brain and Skin) show high specificity.\n",
    "2. Tissues associated with many GO terms (Cells, Whole Blood and Heart) have very high variability (maybe due to the fact that the samples associated with this tissue is heterogenous to start with or the annotation of the GO terms is highly variable)"
   ]
  },
  {
   "cell_type": "code",
   "execution_count": 11,
   "metadata": {
    "collapsed": false
   },
   "outputs": [
    {
     "ename": "IOError",
     "evalue": "[Errno 2] No such file or directory: 'results_1_tissue/GO:0045599/logreg_Adipose - Subcutaneous.txt'",
     "output_type": "error",
     "traceback": [
      "\u001b[0;31m---------------------------------------------------------------------------\u001b[0m",
      "\u001b[0;31mIOError\u001b[0m                                   Traceback (most recent call last)",
      "\u001b[0;32m<ipython-input-11-ef9713f1fefb>\u001b[0m in \u001b[0;36m<module>\u001b[0;34m()\u001b[0m\n\u001b[1;32m      3\u001b[0m \u001b[0;32mfor\u001b[0m \u001b[0mtissue\u001b[0m \u001b[0;32min\u001b[0m \u001b[0mall_tissues\u001b[0m\u001b[0;34m:\u001b[0m\u001b[0;34m\u001b[0m\u001b[0m\n\u001b[1;32m      4\u001b[0m     \u001b[0mterms\u001b[0m \u001b[0;34m=\u001b[0m \u001b[0mGTEX_to_GO\u001b[0m\u001b[0;34m[\u001b[0m\u001b[0mtissue\u001b[0m\u001b[0;34m]\u001b[0m\u001b[0;34m\u001b[0m\u001b[0m\n\u001b[0;32m----> 5\u001b[0;31m     \u001b[0maucs_spec\u001b[0m\u001b[0;34m.\u001b[0m\u001b[0mappend\u001b[0m\u001b[0;34m(\u001b[0m\u001b[0mget_all_1_tissue_aucs\u001b[0m\u001b[0;34m(\u001b[0m\u001b[0mterms\u001b[0m\u001b[0;34m,\u001b[0m \u001b[0;34m[\u001b[0m\u001b[0mtissue\u001b[0m\u001b[0;34m]\u001b[0m\u001b[0;34m)\u001b[0m\u001b[0;34m)\u001b[0m\u001b[0;34m\u001b[0m\u001b[0m\n\u001b[0m\u001b[1;32m      6\u001b[0m \u001b[0;34m\u001b[0m\u001b[0m\n\u001b[1;32m      7\u001b[0m \u001b[0;31m# Sort tissues by number of GO terms\u001b[0m\u001b[0;34m\u001b[0m\u001b[0;34m\u001b[0m\u001b[0m\n",
      "\u001b[0;32m<ipython-input-6-3fe329c6a55f>\u001b[0m in \u001b[0;36mget_all_1_tissue_aucs\u001b[0;34m(GO_terms, tissue_list)\u001b[0m\n\u001b[1;32m     49\u001b[0m     \u001b[0maucs\u001b[0m \u001b[0;34m=\u001b[0m \u001b[0mnp\u001b[0m\u001b[0;34m.\u001b[0m\u001b[0mzeros\u001b[0m\u001b[0;34m(\u001b[0m\u001b[0mshape\u001b[0m\u001b[0;34m=\u001b[0m\u001b[0;34m(\u001b[0m\u001b[0mlen\u001b[0m\u001b[0;34m(\u001b[0m\u001b[0mGO_terms\u001b[0m\u001b[0;34m)\u001b[0m\u001b[0;34m,\u001b[0m\u001b[0mlen\u001b[0m\u001b[0;34m(\u001b[0m\u001b[0mtissue_list\u001b[0m\u001b[0;34m)\u001b[0m\u001b[0;34m)\u001b[0m\u001b[0;34m)\u001b[0m  \u001b[0;31m# aucs[i][j] is auc score for using jth tissue features to predict ith GO term\u001b[0m\u001b[0;34m\u001b[0m\u001b[0m\n\u001b[1;32m     50\u001b[0m     \u001b[0;32mfor\u001b[0m \u001b[0;34m(\u001b[0m\u001b[0mi\u001b[0m\u001b[0;34m,\u001b[0m \u001b[0mterm\u001b[0m\u001b[0;34m)\u001b[0m \u001b[0;32min\u001b[0m \u001b[0menumerate\u001b[0m\u001b[0;34m(\u001b[0m\u001b[0mGO_terms\u001b[0m\u001b[0;34m)\u001b[0m\u001b[0;34m:\u001b[0m\u001b[0;34m\u001b[0m\u001b[0m\n\u001b[0;32m---> 51\u001b[0;31m         \u001b[0maucs\u001b[0m\u001b[0;34m[\u001b[0m\u001b[0mi\u001b[0m\u001b[0;34m,\u001b[0m \u001b[0;34m:\u001b[0m\u001b[0;34m]\u001b[0m \u001b[0;34m=\u001b[0m \u001b[0mget_1_tissue_aucs\u001b[0m\u001b[0;34m(\u001b[0m\u001b[0mterm\u001b[0m\u001b[0;34m,\u001b[0m \u001b[0mtissue_list\u001b[0m\u001b[0;34m)\u001b[0m\u001b[0;34m\u001b[0m\u001b[0m\n\u001b[0m\u001b[1;32m     52\u001b[0m     \u001b[0;32mreturn\u001b[0m \u001b[0maucs\u001b[0m\u001b[0;34m\u001b[0m\u001b[0m\n\u001b[1;32m     53\u001b[0m \u001b[0;34m\u001b[0m\u001b[0m\n",
      "\u001b[0;32m<ipython-input-6-3fe329c6a55f>\u001b[0m in \u001b[0;36mget_1_tissue_aucs\u001b[0;34m(GO_term, tissue_list)\u001b[0m\n\u001b[1;32m     37\u001b[0m         \u001b[0;31m# Get the AUC score when using features from only this tissue\u001b[0m\u001b[0;34m\u001b[0m\u001b[0;34m\u001b[0m\u001b[0m\n\u001b[1;32m     38\u001b[0m         \u001b[0mf_name\u001b[0m \u001b[0;34m=\u001b[0m \u001b[0mresults_dir\u001b[0m \u001b[0;34m+\u001b[0m \u001b[0;34m'logreg_'\u001b[0m \u001b[0;34m+\u001b[0m \u001b[0mtissue\u001b[0m \u001b[0;34m+\u001b[0m \u001b[0;34m'.txt'\u001b[0m\u001b[0;34m\u001b[0m\u001b[0m\n\u001b[0;32m---> 39\u001b[0;31m         \u001b[0mrf\u001b[0m \u001b[0;34m=\u001b[0m \u001b[0mopen\u001b[0m\u001b[0;34m(\u001b[0m\u001b[0mf_name\u001b[0m\u001b[0;34m)\u001b[0m\u001b[0;34m\u001b[0m\u001b[0m\n\u001b[0m\u001b[1;32m     40\u001b[0m         \u001b[0;32mfor\u001b[0m \u001b[0;34m(\u001b[0m\u001b[0mi\u001b[0m\u001b[0;34m,\u001b[0m \u001b[0mline\u001b[0m\u001b[0;34m)\u001b[0m \u001b[0;32min\u001b[0m \u001b[0menumerate\u001b[0m\u001b[0;34m(\u001b[0m\u001b[0mrf\u001b[0m\u001b[0;34m)\u001b[0m\u001b[0;34m:\u001b[0m\u001b[0;34m\u001b[0m\u001b[0m\n\u001b[1;32m     41\u001b[0m             \u001b[0;32mif\u001b[0m \u001b[0mi\u001b[0m \u001b[0;34m==\u001b[0m \u001b[0;36m2\u001b[0m\u001b[0;34m:\u001b[0m\u001b[0;34m\u001b[0m\u001b[0m\n",
      "\u001b[0;31mIOError\u001b[0m: [Errno 2] No such file or directory: 'results_1_tissue/GO:0045599/logreg_Adipose - Subcutaneous.txt'"
     ]
    }
   ],
   "source": [
    "# For each tissue, get the AUC of each GO term that is associated with it.\n",
    "aucs_spec = []\n",
    "for tissue in all_tissues:\n",
    "    terms = GTEX_to_GO[tissue]\n",
    "    aucs_spec.append(get_all_1_tissue_aucs(terms, [tissue]))\n",
    "    \n",
    "# Sort tissues by number of GO terms\n",
    "num_GO = [len(GTEX_to_GO[tissue]) for tissue in all_tissues]\n",
    "index_order = np.argsort(num_GO) # sort in order\n",
    "tissues_sorted = np.array(all_tissues)[index_order]\n",
    "aucs_spec_sorted = np.array(aucs_spec)[index_order]\n",
    "   \n",
    "make_boxplot(aucs_spec_sorted, tissues_sorted)"
   ]
  },
  {
   "cell_type": "code",
   "execution_count": null,
   "metadata": {
    "collapsed": true
   },
   "outputs": [],
   "source": []
  }
 ],
 "metadata": {
  "kernelspec": {
   "display_name": "Python 2",
   "language": "python",
   "name": "python2"
  },
  "language_info": {
   "codemirror_mode": {
    "name": "ipython",
    "version": 2
   },
   "file_extension": ".py",
   "mimetype": "text/x-python",
   "name": "python",
   "nbconvert_exporter": "python",
   "pygments_lexer": "ipython2",
   "version": "2.7.11"
  }
 },
 "nbformat": 4,
 "nbformat_minor": 0
}

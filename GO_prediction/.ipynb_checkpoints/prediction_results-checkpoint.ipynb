{
 "cells": [
  {
   "cell_type": "code",
   "execution_count": 1,
   "metadata": {
    "collapsed": false
   },
   "outputs": [],
   "source": [
    "import numpy as np\n",
    "from sklearn import linear_model\n",
    "from sklearn.metrics import roc_auc_score\n",
    "from sklearn.svm import SVC\n",
    "import GO_utils\n",
    "import utils"
   ]
  },
  {
   "cell_type": "markdown",
   "metadata": {},
   "source": [
    "## Specify File Paths"
   ]
  },
  {
   "cell_type": "code",
   "execution_count": 2,
   "metadata": {
    "collapsed": true
   },
   "outputs": [],
   "source": [
    "gene2go_file_path = '../data/gene2go.txt' # If file doesn't exist, then run gene2go = download_ncbi_associations()\n",
    "rpkm_file_path = '../../CS341_Data/transcript_rpkm_in_go_nonzero_exp.txt'\n",
    "gene_count_file_path = '../data/supp_GO_term_gene_counts.txt'\n",
    "biomart_file_path = '../data/biomart_ensembl_to_entrez.txt'  \n",
    "sample_tissue_path = '../data/sampleID_tissue.txt'\n",
    "obo_file_path = '../data/go-basic.obo'"
   ]
  },
  {
   "cell_type": "markdown",
   "metadata": {},
   "source": [
    "## Get Gene Annotations for all GO terms in Supplementary File (include the GO descendant terms)"
   ]
  },
  {
   "cell_type": "code",
   "execution_count": 4,
   "metadata": {
    "collapsed": false,
    "scrolled": true
   },
   "outputs": [
    {
     "name": "stdout",
     "output_type": "stream",
     "text": [
      "16439 GO terms associated with human NCBI Entrez GeneIDs\n"
     ]
    },
    {
     "name": "stderr",
     "output_type": "stream",
     "text": [
      "load obo file ../data/go-basic.obo\n"
     ]
    },
    {
     "ename": "Exception",
     "evalue": "download obo file first\n [http://geneontology.org/ontology/go-basic.obo]",
     "output_type": "error",
     "traceback": [
      "\u001b[0;31m---------------------------------------------------------------------------\u001b[0m",
      "\u001b[0;31mException\u001b[0m                                 Traceback (most recent call last)",
      "\u001b[0;32m<ipython-input-4-5d3f65cc1c99>\u001b[0m in \u001b[0;36m<module>\u001b[0;34m()\u001b[0m\n\u001b[0;32m----> 1\u001b[0;31m \u001b[0mGO_terms\u001b[0m \u001b[0;34m=\u001b[0m \u001b[0mGO_utils\u001b[0m\u001b[0;34m.\u001b[0m\u001b[0mget_go_terms_descendants\u001b[0m\u001b[0;34m(\u001b[0m\u001b[0mbiomart_file_path\u001b[0m\u001b[0;34m,\u001b[0m \u001b[0mgene2go_file_path\u001b[0m\u001b[0;34m,\u001b[0m \u001b[0mgene_count_file_path\u001b[0m\u001b[0;34m,\u001b[0m \u001b[0mobo_file_path\u001b[0m\u001b[0;34m,\u001b[0m \u001b[0mev_codes\u001b[0m\u001b[0;34m=\u001b[0m\u001b[0mNone\u001b[0m\u001b[0;34m)\u001b[0m\u001b[0;34m\u001b[0m\u001b[0m\n\u001b[0m\u001b[1;32m      2\u001b[0m \u001b[0mGO_terms\u001b[0m \u001b[0;34m=\u001b[0m \u001b[0mGO_utils\u001b[0m\u001b[0;34m.\u001b[0m\u001b[0msort_go_terms\u001b[0m\u001b[0;34m(\u001b[0m\u001b[0mGO_terms\u001b[0m\u001b[0;34m)\u001b[0m\u001b[0;34m\u001b[0m\u001b[0m\n\u001b[1;32m      3\u001b[0m \u001b[0;32mprint\u001b[0m \u001b[0;34m'Top GO terms'\u001b[0m\u001b[0;34m\u001b[0m\u001b[0m\n\u001b[1;32m      4\u001b[0m \u001b[0;32mfor\u001b[0m \u001b[0mt\u001b[0m \u001b[0;32min\u001b[0m \u001b[0mGO_terms\u001b[0m\u001b[0;34m[\u001b[0m\u001b[0;36m0\u001b[0m\u001b[0;34m:\u001b[0m\u001b[0;36m10\u001b[0m\u001b[0;34m]\u001b[0m\u001b[0;34m:\u001b[0m\u001b[0;34m\u001b[0m\u001b[0m\n\u001b[1;32m      5\u001b[0m     \u001b[0;32mprint\u001b[0m \u001b[0mt\u001b[0m\u001b[0;34m.\u001b[0m\u001b[0mid\u001b[0m\u001b[0;34m,\u001b[0m \u001b[0;34m' '\u001b[0m\u001b[0;34m,\u001b[0m \u001b[0mlen\u001b[0m\u001b[0;34m(\u001b[0m\u001b[0mt\u001b[0m\u001b[0;34m.\u001b[0m\u001b[0mgenes\u001b[0m\u001b[0;34m)\u001b[0m\u001b[0;34m\u001b[0m\u001b[0m\n",
      "\u001b[0;32m/Users/jjzhu/Documents/GTEx/CS341_Code/GO_prediction/GO_utils.py\u001b[0m in \u001b[0;36mget_go_terms_descendants\u001b[0;34m(biomart_fpath, gene2go_fpath, gene_count_fpath, obo_fpath, ev_codes)\u001b[0m\n\u001b[1;32m     58\u001b[0m         \u001b[0mgo_to_entrez_ids_human\u001b[0m \u001b[0;34m=\u001b[0m \u001b[0mread_ncbi_gene2go\u001b[0m\u001b[0;34m(\u001b[0m\u001b[0mgene2go_fpath\u001b[0m\u001b[0;34m,\u001b[0m \u001b[0mtaxids\u001b[0m\u001b[0;34m=\u001b[0m\u001b[0;34m[\u001b[0m\u001b[0;36m9606\u001b[0m\u001b[0;34m]\u001b[0m\u001b[0;34m,\u001b[0m \u001b[0mgo2geneids\u001b[0m\u001b[0;34m=\u001b[0m\u001b[0mTrue\u001b[0m\u001b[0;34m)\u001b[0m\u001b[0;34m\u001b[0m\u001b[0m\n\u001b[1;32m     59\u001b[0m     \u001b[0;32mprint\u001b[0m\u001b[0;34m(\u001b[0m\u001b[0;34m\"{N} GO terms associated with human NCBI Entrez GeneIDs\"\u001b[0m\u001b[0;34m.\u001b[0m\u001b[0mformat\u001b[0m\u001b[0;34m(\u001b[0m\u001b[0mN\u001b[0m\u001b[0;34m=\u001b[0m\u001b[0mlen\u001b[0m\u001b[0;34m(\u001b[0m\u001b[0mgo_to_entrez_ids_human\u001b[0m\u001b[0;34m)\u001b[0m\u001b[0;34m)\u001b[0m\u001b[0;34m)\u001b[0m\u001b[0;34m\u001b[0m\u001b[0m\n\u001b[0;32m---> 60\u001b[0;31m     \u001b[0msrchhelp\u001b[0m \u001b[0;34m=\u001b[0m \u001b[0mGoSearch\u001b[0m\u001b[0;34m(\u001b[0m\u001b[0mobo_fpath\u001b[0m\u001b[0;34m,\u001b[0m \u001b[0mgo2items\u001b[0m\u001b[0;34m=\u001b[0m\u001b[0mgo_to_entrez_ids_human\u001b[0m\u001b[0;34m)\u001b[0m\u001b[0;34m\u001b[0m\u001b[0m\n\u001b[0m\u001b[1;32m     61\u001b[0m \u001b[0;34m\u001b[0m\u001b[0m\n\u001b[1;32m     62\u001b[0m     \u001b[0;31m# Get the GO terms\u001b[0m\u001b[0;34m\u001b[0m\u001b[0;34m\u001b[0m\u001b[0m\n",
      "\u001b[0;32m/Users/jjzhu/goatools/goatools/go_search.pyc\u001b[0m in \u001b[0;36m__init__\u001b[0;34m(self, fin_go_basic_obo, go2items, log)\u001b[0m\n\u001b[1;32m     15\u001b[0m         \u001b[0;31m# Some obo fields often used in searching. Many are optional to load when reading obo\u001b[0m\u001b[0;34m\u001b[0m\u001b[0;34m\u001b[0m\u001b[0m\n\u001b[1;32m     16\u001b[0m         \u001b[0mself\u001b[0m\u001b[0;34m.\u001b[0m\u001b[0mgoa_srch_hdrs\u001b[0m \u001b[0;34m=\u001b[0m \u001b[0;34m[\u001b[0m\u001b[0;34m'defn'\u001b[0m\u001b[0;34m,\u001b[0m \u001b[0;34m'comment'\u001b[0m\u001b[0;34m,\u001b[0m \u001b[0;34m'name'\u001b[0m\u001b[0;34m,\u001b[0m \u001b[0;34m'is_a'\u001b[0m\u001b[0;34m,\u001b[0m \u001b[0;34m'relationship'\u001b[0m\u001b[0;34m,\u001b[0m \u001b[0;34m'synonym'\u001b[0m\u001b[0;34m,\u001b[0m \u001b[0;34m'xref'\u001b[0m\u001b[0;34m]\u001b[0m\u001b[0;34m\u001b[0m\u001b[0m\n\u001b[0;32m---> 17\u001b[0;31m         \u001b[0mself\u001b[0m\u001b[0;34m.\u001b[0m\u001b[0mobo_dag\u001b[0m \u001b[0;34m=\u001b[0m \u001b[0mGODag\u001b[0m\u001b[0;34m(\u001b[0m\u001b[0mfin_go_basic_obo\u001b[0m\u001b[0;34m,\u001b[0m \u001b[0moptional_attrs\u001b[0m\u001b[0;34m=\u001b[0m\u001b[0mself\u001b[0m\u001b[0;34m.\u001b[0m\u001b[0mgoa_srch_hdrs\u001b[0m\u001b[0;34m)\u001b[0m\u001b[0;34m\u001b[0m\u001b[0m\n\u001b[0m\u001b[1;32m     18\u001b[0m         \u001b[0mself\u001b[0m\u001b[0;34m.\u001b[0m\u001b[0mgo2items\u001b[0m \u001b[0;34m=\u001b[0m \u001b[0mgo2items\u001b[0m\u001b[0;34m\u001b[0m\u001b[0m\n\u001b[1;32m     19\u001b[0m \u001b[0;34m\u001b[0m\u001b[0m\n",
      "\u001b[0;32m/Users/jjzhu/goatools/goatools/obo_parser.pyc\u001b[0m in \u001b[0;36m__init__\u001b[0;34m(self, obo_file, optional_attrs)\u001b[0m\n\u001b[1;32m    385\u001b[0m \u001b[0;34m\u001b[0m\u001b[0m\n\u001b[1;32m    386\u001b[0m     \u001b[0;32mdef\u001b[0m \u001b[0m__init__\u001b[0m\u001b[0;34m(\u001b[0m\u001b[0mself\u001b[0m\u001b[0;34m,\u001b[0m \u001b[0mobo_file\u001b[0m\u001b[0;34m=\u001b[0m\u001b[0;34m\"go-basic.obo\"\u001b[0m\u001b[0;34m,\u001b[0m \u001b[0moptional_attrs\u001b[0m\u001b[0;34m=\u001b[0m\u001b[0mNone\u001b[0m\u001b[0;34m)\u001b[0m\u001b[0;34m:\u001b[0m\u001b[0;34m\u001b[0m\u001b[0m\n\u001b[0;32m--> 387\u001b[0;31m         \u001b[0mself\u001b[0m\u001b[0;34m.\u001b[0m\u001b[0mload_obo_file\u001b[0m\u001b[0;34m(\u001b[0m\u001b[0mobo_file\u001b[0m\u001b[0;34m,\u001b[0m \u001b[0moptional_attrs\u001b[0m\u001b[0;34m)\u001b[0m\u001b[0;34m\u001b[0m\u001b[0m\n\u001b[0m\u001b[1;32m    388\u001b[0m \u001b[0;34m\u001b[0m\u001b[0m\n\u001b[1;32m    389\u001b[0m     \u001b[0;32mdef\u001b[0m \u001b[0mload_obo_file\u001b[0m\u001b[0;34m(\u001b[0m\u001b[0mself\u001b[0m\u001b[0;34m,\u001b[0m \u001b[0mobo_file\u001b[0m\u001b[0;34m,\u001b[0m \u001b[0moptional_attrs\u001b[0m\u001b[0;34m)\u001b[0m\u001b[0;34m:\u001b[0m\u001b[0;34m\u001b[0m\u001b[0m\n",
      "\u001b[0;32m/Users/jjzhu/goatools/goatools/obo_parser.pyc\u001b[0m in \u001b[0;36mload_obo_file\u001b[0;34m(self, obo_file, optional_attrs)\u001b[0m\n\u001b[1;32m    390\u001b[0m \u001b[0;34m\u001b[0m\u001b[0m\n\u001b[1;32m    391\u001b[0m         \u001b[0;32mprint\u001b[0m\u001b[0;34m(\u001b[0m\u001b[0;34m\"load obo file %s\"\u001b[0m \u001b[0;34m%\u001b[0m \u001b[0mobo_file\u001b[0m\u001b[0;34m,\u001b[0m \u001b[0mfile\u001b[0m\u001b[0;34m=\u001b[0m\u001b[0msys\u001b[0m\u001b[0;34m.\u001b[0m\u001b[0mstderr\u001b[0m\u001b[0;34m)\u001b[0m\u001b[0;34m\u001b[0m\u001b[0m\n\u001b[0;32m--> 392\u001b[0;31m         \u001b[0mreader\u001b[0m \u001b[0;34m=\u001b[0m \u001b[0mOBOReader\u001b[0m\u001b[0;34m(\u001b[0m\u001b[0mobo_file\u001b[0m\u001b[0;34m,\u001b[0m \u001b[0moptional_attrs\u001b[0m\u001b[0;34m)\u001b[0m\u001b[0;34m\u001b[0m\u001b[0m\n\u001b[0m\u001b[1;32m    393\u001b[0m         \u001b[0;32mfor\u001b[0m \u001b[0mrec\u001b[0m \u001b[0;32min\u001b[0m \u001b[0mreader\u001b[0m\u001b[0;34m:\u001b[0m\u001b[0;34m\u001b[0m\u001b[0m\n\u001b[1;32m    394\u001b[0m             \u001b[0mself\u001b[0m\u001b[0;34m[\u001b[0m\u001b[0mrec\u001b[0m\u001b[0;34m.\u001b[0m\u001b[0mid\u001b[0m\u001b[0;34m]\u001b[0m \u001b[0;34m=\u001b[0m \u001b[0mrec\u001b[0m\u001b[0;34m\u001b[0m\u001b[0m\n",
      "\u001b[0;32m/Users/jjzhu/goatools/goatools/obo_parser.pyc\u001b[0m in \u001b[0;36m__init__\u001b[0;34m(self, obo_file, optional_attrs)\u001b[0m\n\u001b[1;32m     40\u001b[0m             \u001b[0;31m# GOTerm attributes that are necessary for any operations:\u001b[0m\u001b[0;34m\u001b[0m\u001b[0;34m\u001b[0m\u001b[0m\n\u001b[1;32m     41\u001b[0m         \u001b[0;32melse\u001b[0m\u001b[0;34m:\u001b[0m\u001b[0;34m\u001b[0m\u001b[0m\n\u001b[0;32m---> 42\u001b[0;31m             raise Exception(\"download obo file first\\n \"\n\u001b[0m\u001b[1;32m     43\u001b[0m                             \u001b[0;34m\"[http://geneontology.org/ontology/\"\u001b[0m\u001b[0;34m\u001b[0m\u001b[0m\n\u001b[1;32m     44\u001b[0m                             \"go-basic.obo]\")\n",
      "\u001b[0;31mException\u001b[0m: download obo file first\n [http://geneontology.org/ontology/go-basic.obo]"
     ]
    }
   ],
   "source": [
    "GO_terms = GO_utils.get_go_terms_descendants(biomart_file_path, gene2go_file_path, gene_count_file_path, obo_file_path, ev_codes=None)\n",
    "GO_terms = GO_utils.sort_go_terms(GO_terms)\n",
    "print 'Top GO terms'\n",
    "for t in GO_terms[0:10]:\n",
    "    print t.id, ' ', len(t.genes)\n",
    "\n",
    "term = GO_terms[100]\n",
    "print len(term.genes)\n",
    "ensembl_ids = term.genes\n",
    "ens_ids_dict = {}\n",
    "for id in ensembl_ids:\n",
    "    ens_ids_dict[id] = True"
   ]
  },
  {
   "cell_type": "markdown",
   "metadata": {},
   "source": [
    "## 1st Pass Through Dataset: Obtain positive training examples"
   ]
  },
  {
   "cell_type": "code",
   "execution_count": 31,
   "metadata": {
    "collapsed": false
   },
   "outputs": [
    {
     "name": "stdout",
     "output_type": "stream",
     "text": [
      "After pass 1 (inserting positive examples), gene feature matrix has dimension:  (118, 8555)\n",
      "num pos examples:  118\n"
     ]
    }
   ],
   "source": [
    "NUM_FEATURES = 8555\n",
    "gene_features, positive_example_rows, gene_ids_ordered, num_transcripts = \\\n",
    "        GO_utils.get_positive_examples(rpkm_file_path, ens_ids_dict, NUM_FEATURES)\n",
    "\n",
    "print 'After pass 1 (inserting positive examples), gene feature matrix has dimension: ', gene_features.shape\n",
    "num_positive_examples = len(positive_example_rows)\n",
    "num_negative_examples = num_positive_examples\n",
    "num_examples = num_positive_examples + num_negative_examples\n",
    "print 'num pos examples: ', num_positive_examples"
   ]
  },
  {
   "cell_type": "markdown",
   "metadata": {},
   "source": [
    "## 2nd Pass through dataset: Obtain an equal number of negative training exmaples"
   ]
  },
  {
   "cell_type": "code",
   "execution_count": 32,
   "metadata": {
    "collapsed": false
   },
   "outputs": [
    {
     "name": "stdout",
     "output_type": "stream",
     "text": [
      "After pass 2 (inserting negative examples), gene feature matrix has dimension:  (236, 8555)\n"
     ]
    }
   ],
   "source": [
    "neg_rows = utils.rand_sample_exclude(range(0, num_transcripts), num_negative_examples, exclude=positive_example_rows)\n",
    "\n",
    "gene_features_neg, gene_ids_ordered_neg = \\\n",
    "    GO_utils.get_negative_examples(rpkm_file_path, neg_rows, NUM_FEATURES)\n",
    "gene_features = np.append(gene_features, gene_features_neg, axis=0)\n",
    "gene_ids_ordered += gene_ids_ordered_neg\n",
    "\n",
    "print 'After pass 2 (inserting negative examples), gene feature matrix has dimension: ', gene_features.shape"
   ]
  },
  {
   "cell_type": "markdown",
   "metadata": {},
   "source": [
    "## Add Binary Labels to the Data and split into train/test"
   ]
  },
  {
   "cell_type": "code",
   "execution_count": 33,
   "metadata": {
    "collapsed": false
   },
   "outputs": [
    {
     "name": "stdout",
     "output_type": "stream",
     "text": [
      "num examples:  236\n",
      "Dimensionality of training set:  (166, 8555)\n",
      "Dimensionality of test set:  (70, 8555)\n",
      "Obtained training & testing data\n"
     ]
    }
   ],
   "source": [
    "# Vector of labels for each example\n",
    "labels = num_positive_examples * [1] + num_negative_examples * [0]\n",
    "\n",
    "train, test = utils.split_data(gene_features, labels, gene_ids_ordered, train_set_size=0.7)\n",
    "print 'Obtained training & testing data'"
   ]
  },
  {
   "cell_type": "markdown",
   "metadata": {},
   "source": [
    "## Evaluate Various Models"
   ]
  },
  {
   "cell_type": "markdown",
   "metadata": {},
   "source": [
    "## Logistic Regression With 10-Fold CV, L2 Norm"
   ]
  },
  {
   "cell_type": "code",
   "execution_count": 60,
   "metadata": {
    "collapsed": false
   },
   "outputs": [
    {
     "name": "stdout",
     "output_type": "stream",
     "text": [
      "--------------------\n",
      "Cross-Validated Logistic Regression\n",
      "--------------------\n",
      "Root Mean Square Error:  0.48304589154\n",
      "ROC AUC Score:  0.772321428571\n",
      "False positive rate:  0.166666666667\n",
      "False negative rate:  0.0666666666667\n",
      "Norm: l1, # of Folds: 10\n",
      "Best cost (after inverting to obtain true cost):  [ 78.47599704]\n"
     ]
    }
   ],
   "source": [
    "num_folds = 10   # number of folds to use for cross-validation\n",
    "loss_fxn = 'l2'  # Loss function to use. Must be either 'l1' or 'l2'\n",
    "costs = np.logspace(-4, 4, 20)  # 10^(-arg1) to 10^arg2 in arg3 logarithmic steps\n",
    "logreg_cv_L2 = linear_model.LogisticRegressionCV(Cs=costs, cv=num_folds, penalty=loss_fxn, tol=0.0001)\n",
    "logreg_cv_L2.fit(train.gene_features, train.labels)\n",
    "best_c = logreg_cv_L2.C_\n",
    "pred_lr_cv_L2 = logreg_cv_L2.predict(test.gene_features)\n",
    "utils.print_prediction_results('Cross-Validated Logistic Regression', test.labels, pred_lr_cv_L2,\n",
    "                               other_info='Norm: ' + loss_function + ', # of Folds: ' + str(num_folds))\n",
    "print 'Best cost (after inverting to obtain true cost): ', 1.0 / best_c"
   ]
  },
  {
   "cell_type": "markdown",
   "metadata": {},
   "source": [
    "## Logistic Regression With L1 Norm"
   ]
  },
  {
   "cell_type": "code",
   "execution_count": null,
   "metadata": {
    "collapsed": false
   },
   "outputs": [],
   "source": [
    "num_folds = 10   # number of folds to use for cross-validation\n",
    "loss_function = 'l1'  # Loss function to use. Must be either 'l1' or 'l2'\n",
    "costs = np.logspace(-4, 4, 20)  # 10^(-start) to 10^stop in 10 logarithmic steps\n",
    "logreg_cv_L1 = linear_model.LogisticRegressionCV(Cs=costs, cv=num_folds, penalty=loss_function, solver='liblinear', tol=0.0001)\n",
    "logreg_cv_L1.fit(train.gene_features, train.labels)\n",
    "best_c = logreg_cv_L1.C_\n",
    "pred_lr_cv_L1 = logreg_cv_L1.predict(test.gene_features)\n",
    "utils.print_prediction_results('Cross-Validated Logistic Regression', test.labels, pred_lr_cv_L1, \n",
    "                         other_info='Norm: ' + loss_function + ', # of Folds: ' + str(num_folds))\n",
    "print 'Best cost (after inverting to obtain true cost): ', 1.0 / best_c\n",
    "\n",
    "# Save results\n",
    "out_fname = '../data/result_logreg_' + term.id + '.txt'\n",
    "save_prediction_results(out_fname, term.id, 'Logistic Regresion with L1 Penalty', \n",
    "                              test, pred_lr_cv_L1, num_folds, \n",
    "                              tissue_set=None, best_cost=best_c)\n",
    "\n",
    "\n",
    "#print_prediction_results('Cross-Validated Logistic Regression', test.labels, pred_lr_cv_L1, \n",
    "#                         other_info='Norm: ' + loss_function + ', # of Folds: ' + str(num_folds))"
   ]
  },
  {
   "cell_type": "markdown",
   "metadata": {},
   "source": [
    "## SVM"
   ]
  },
  {
   "cell_type": "code",
   "execution_count": null,
   "metadata": {
    "collapsed": true
   },
   "outputs": [],
   "source": [
    "from sklearn.grid_search import GridSearchCV\n",
    "\n",
    "# Split training data into train and dev\n",
    "#train_cv , dev = utils.split_data(train.gene_features, train.labels, train.gene_ids_ordered, train_set_size=0.7)\n",
    "\n",
    "svc = SVC(kernel='rbf')\n",
    "Cs = np.logspace(-6, -1, 10)\n",
    "clf = GridSearchCV(estimator=svc, param_grid=dict(C=Cs),n_jobs=-1)    \n",
    "clf.fit(train.gene_features, train.labels)\n",
    "print 'Best score: ', clf.best_score_\n",
    "best_C = clf.best_estimator_.C\n",
    "print 'Best C: ', best_C"
   ]
  },
  {
   "cell_type": "code",
   "execution_count": null,
   "metadata": {
    "collapsed": true
   },
   "outputs": [],
   "source": [
    "clf = SVC(kernel='rbf', C=best_C)\n",
    "clf.fit(train.gene_features, train.labels)\n",
    "pred_svm = clf.predict(test.gene_features)\n",
    "utils.print_prediction_results('SVM', test.labels, pred_svm)"
   ]
  },
  {
   "cell_type": "code",
   "execution_count": null,
   "metadata": {
    "collapsed": true
   },
   "outputs": [],
   "source": [
    "for t in GO_terms[0:100]:\n",
    "    print t.id, ' ', len(t.genes)"
   ]
  },
  {
   "cell_type": "code",
   "execution_count": 27,
   "metadata": {
    "collapsed": false
   },
   "outputs": [
    {
     "name": "stdout",
     "output_type": "stream",
     "text": [
      "[  1.00000000e-04   7.74263683e-04   5.99484250e-03   4.64158883e-02\n",
      "   3.59381366e-01   2.78255940e+00   2.15443469e+01   1.66810054e+02\n",
      "   1.29154967e+03   1.00000000e+04]\n"
     ]
    }
   ],
   "source": [
    "from math import exp\n",
    "costs = np.logspace(-4, 4, 10)\n",
    "print costs"
   ]
  },
  {
   "cell_type": "code",
   "execution_count": 79,
   "metadata": {
    "collapsed": false
   },
   "outputs": [
    {
     "ename": "AttributeError",
     "evalue": "'module' object has no attribute 'printhi'",
     "output_type": "error",
     "traceback": [
      "\u001b[0;31m---------------------------------------------------------------------------\u001b[0m",
      "\u001b[0;31mAttributeError\u001b[0m                            Traceback (most recent call last)",
      "\u001b[0;32m<ipython-input-79-6f0116aec95d>\u001b[0m in \u001b[0;36m<module>\u001b[0;34m()\u001b[0m\n\u001b[0;32m----> 1\u001b[0;31m \u001b[0mutils\u001b[0m\u001b[0;34m.\u001b[0m\u001b[0mprinthi\u001b[0m\u001b[0;34m(\u001b[0m\u001b[0;34m)\u001b[0m\u001b[0;34m\u001b[0m\u001b[0m\n\u001b[0m",
      "\u001b[0;31mAttributeError\u001b[0m: 'module' object has no attribute 'printhi'"
     ]
    }
   ],
   "source": [
    "utils.printhi()"
   ]
  },
  {
   "cell_type": "code",
   "execution_count": 34,
   "metadata": {
    "collapsed": true
   },
   "outputs": [],
   "source": [
    "def save_prediction_results(fname, GO_id, model, test_data, preds, n_folds=None,\n",
    "                            tissue_set=None, best_cost=None, other_info=None):\n",
    "    \"\"\"\n",
    "    Save results of prediction for a given GO term to a text file.\n",
    "\n",
    "    :param fname: Name of output file\n",
    "    :param GO_id: ID of the GO term\n",
    "    :param model: Type of model used (e.g. \"Logistic Regression with L1 Norm\")\n",
    "    :param test_data: GeneData object containing test data\n",
    "    :param preds: Binary predictions for test data\n",
    "    :param n_folds: # of folds used for cross-validation\n",
    "    :param tissue_set: Set of tissues used. If no option is specified, it's assumed that all tissues were used\n",
    "    :param best_cost: If applicable, the best cost parameter (as determined by cross-validation)\n",
    "    :param other_info: Other info to store in header of output file\n",
    "    :return: None\n",
    "    \"\"\"\n",
    "\n",
    "    out_file = open(fname, 'w')\n",
    "    out_file.write('# Prediction results for GO term: ' + GO_id + '\\n')\n",
    "    out_file.write('# Model used: ' + model + '\\n')\n",
    "    auc_score = roc_auc_score(test_data.labels, preds)\n",
    "\n",
    "    print 'auc: ', auc_score\n",
    "\n",
    "    out_file.write('# ROC AUC Score: ' + str(auc_score) + '\\n')\n",
    "    if tissue_set:\n",
    "        out_file.write('# Tissues used: ' + tissue_set + '\\n')\n",
    "    else:\n",
    "        out_file.write('# All tissues were included\\n')\n",
    "    if n_folds:\n",
    "        out_file.write('# Number of folds used for cross-validation: ' + str(n_folds) + '\\n')\n",
    "    if best_cost:\n",
    "        out_file.write('# Best cost parameter (determined by CV): ' + str(best_cost) + '\\n')\n",
    "    if other_info:\n",
    "        out_file.write('# ' + other_info + '\\n')\n",
    "\n",
    "    # Writ out the predictions\n",
    "    out_file.write('# Gene ID\\tLabel\\tPrediction\\n')\n",
    "    for id,label,pred in zip(test_data.gene_ids, test_data.labels, preds):\n",
    "        out_file.write(id + '\\t' + str(label) + '\\t' + str(pred) + '\\n')\n",
    "\n",
    "    out_file.close()\n"
   ]
  },
  {
   "cell_type": "code",
   "execution_count": null,
   "metadata": {
    "collapsed": true
   },
   "outputs": [],
   "source": []
  }
 ],
 "metadata": {
  "kernelspec": {
   "display_name": "Python 2",
   "language": "python",
   "name": "python2"
  },
  "language_info": {
   "codemirror_mode": {
    "name": "ipython",
    "version": 2
   },
   "file_extension": ".py",
   "mimetype": "text/x-python",
   "name": "python",
   "nbconvert_exporter": "python",
   "pygments_lexer": "ipython2",
   "version": "2.7.10"
  }
 },
 "nbformat": 4,
 "nbformat_minor": 0
}
